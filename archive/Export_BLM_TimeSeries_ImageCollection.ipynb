{
 "cells": [
  {
   "cell_type": "code",
   "execution_count": 1,
   "metadata": {
    "colab": {
     "base_uri": "https://localhost:8080/"
    },
    "id": "hTeLmxy6lVf0",
    "outputId": "9ef1ee0e-56a4-4929-f7e5-34fe9ae610d7",
    "scrolled": true
   },
   "outputs": [
    {
     "data": {
      "text/html": [
       "<p>To authorize access needed by Earth Engine, open the following\n",
       "        URL in a web browser and follow the instructions:</p>\n",
       "        <p><a href=https://code.earthengine.google.com/client-auth?scopes=https%3A//www.googleapis.com/auth/earthengine%20https%3A//www.googleapis.com/auth/devstorage.full_control&request_id=o7_j8qq5TPpBvb-rZran2NQGryPQD_Z__r5w0r7FyQo&tc=3F5YbgLMHMIsYrqsiZdnDS-2HFbsJkfUVdurgypSbJg&cc=qQCkwdk3XINpvcWOyYlQWKOGQWCNAA_IwDcbG4dLHkA>https://code.earthengine.google.com/client-auth?scopes=https%3A//www.googleapis.com/auth/earthengine%20https%3A//www.googleapis.com/auth/devstorage.full_control&request_id=o7_j8qq5TPpBvb-rZran2NQGryPQD_Z__r5w0r7FyQo&tc=3F5YbgLMHMIsYrqsiZdnDS-2HFbsJkfUVdurgypSbJg&cc=qQCkwdk3XINpvcWOyYlQWKOGQWCNAA_IwDcbG4dLHkA</a></p>\n",
       "        <p>The authorization workflow will generate a code, which you should paste in the box below.</p>\n",
       "        "
      ],
      "text/plain": [
       "<IPython.core.display.HTML object>"
      ]
     },
     "metadata": {},
     "output_type": "display_data"
    },
    {
     "name": "stdout",
     "output_type": "stream",
     "text": [
      "Enter verification code: 4/1AdQt8qjDPnoE9RxzJaolwJf79oADzFx07_e1Lu43vgiRttFUtuOIgEFU8VU\n",
      "\n",
      "Successfully saved authorization token.\n"
     ]
    }
   ],
   "source": [
    "import ee\n",
    "ee.Authenticate()\n",
    "ee.Initialize()"
   ]
  },
  {
   "cell_type": "code",
   "execution_count": 2,
   "metadata": {
    "id": "pT6KulIXmSWZ"
   },
   "outputs": [],
   "source": [
    "import os\n",
    "import datetime\n",
    "from datetime import timedelta\n",
    "import pandas as pd"
   ]
  },
  {
   "cell_type": "code",
   "execution_count": 3,
   "metadata": {
    "colab": {
     "base_uri": "https://localhost:8080/",
     "height": 1000
    },
    "id": "tqsVXzlDc6w1",
    "outputId": "5e4051c2-b31e-40bd-ee13-0950739171bd"
   },
   "outputs": [],
   "source": [
    "# !pip install geemap\n",
    "import ee\n",
    "import geemap\n",
    "Map = geemap.Map()"
   ]
  },
  {
   "cell_type": "markdown",
   "metadata": {
    "id": "4t-1HOAnF7rL"
   },
   "source": [
    "## Load datasets"
   ]
  },
  {
   "cell_type": "code",
   "execution_count": 4,
   "metadata": {
    "id": "zQPixTuOF658"
   },
   "outputs": [],
   "source": [
    "gm = ee.ImageCollection(\"GRIDMET/DROUGHT\")\n",
    "blm = ee.FeatureCollection(\"projects/ee-ericrjensen/assets/BLM_Allotments_All\")\n",
    "rapNPP = ee.ImageCollection(\"projects/rangeland-analysis-platform/npp-partitioned-v3\")\n",
    "rapCov = ee.ImageCollection(\"projects/rangeland-analysis-platform/vegetation-cover-v3\")\n",
    "mat = ee.ImageCollection(\"projects/rangeland-analysis-platform/gridmet-MAT\")"
   ]
  },
  {
   "cell_type": "markdown",
   "metadata": {
    "id": "tpqLcwg5maQb"
   },
   "source": [
    "## Pre-process data"
   ]
  },
  {
   "cell_type": "code",
   "execution_count": 5,
   "metadata": {
    "id": "VG2fYXaKIYQh"
   },
   "outputs": [],
   "source": [
    "# Subset gridMET by the years to subset\n",
    "yearsToExport = 4\n",
    "startDate = datetime.datetime(2019, 1, 1)\n",
    "endDate = startDate + timedelta(days = (365.25*yearsToExport)-1)"
   ]
  },
  {
   "cell_type": "markdown",
   "metadata": {
    "id": "K59x-CS-Fwm-"
   },
   "source": [
    "### gridMET Drought Blends"
   ]
  },
  {
   "cell_type": "code",
   "execution_count": 6,
   "metadata": {
    "id": "AEiIzucTmKGd"
   },
   "outputs": [],
   "source": [
    "# Define property list\n",
    "property_list = [\"system:index\", \"system:time_start\"]"
   ]
  },
  {
   "cell_type": "code",
   "execution_count": 7,
   "metadata": {
    "colab": {
     "base_uri": "https://localhost:8080/"
    },
    "id": "lGDOEbdrWzlF",
    "outputId": "59a15d41-1901-4237-bb91-17e8d0b0ff90",
    "scrolled": false
   },
   "outputs": [
    {
     "data": {
      "text/plain": [
       "['2019-01-01',\n",
       " '2019-02-01',\n",
       " '2019-03-01',\n",
       " '2019-04-01',\n",
       " '2019-05-01',\n",
       " '2019-06-01',\n",
       " '2019-07-01',\n",
       " '2019-08-01',\n",
       " '2019-09-01',\n",
       " '2019-10-01']"
      ]
     },
     "execution_count": 7,
     "metadata": {},
     "output_type": "execute_result"
    }
   ],
   "source": [
    "# Generate list of month starts for creating monthly drought blend Image Collection\n",
    "monthList = pd.date_range(startDate,endDate, \n",
    "              freq='MS').strftime(\"%Y-%m-%d\").tolist()\n",
    "monthList[0:10]"
   ]
  },
  {
   "cell_type": "code",
   "execution_count": 8,
   "metadata": {
    "id": "OYGJjcFfmU44"
   },
   "outputs": [],
   "source": [
    "# Function to calculate short-term and long-term blends\n",
    "def preprocess_gm_drought(img):\n",
    "\n",
    "  # Define preliminary variables for short-term blend calculation\n",
    "  stb_variable = \"short_term_blend\"\n",
    "  stb_pdsi_img = img.select(\"pdsi\")\n",
    "  stb_z_img = img.select(\"z\")\n",
    "  stb_spi90d_img = img.select(\"spi90d\")\n",
    "  stb_spi30d_img = img.select(\"spi30d\")\n",
    "\n",
    "  # Define weights for short-term blend calculation\n",
    "  stb_pdsi_coef = 0.2\n",
    "  stb_z_coef = 0.35\n",
    "  stb_spi90d_coef = 0.25\n",
    "  stb_spi30d_coef = 0.2\n",
    "\n",
    "  # Calculate short-term blend\n",
    "  stblend = stb_pdsi_img.expression(\n",
    "      \"b() * pdsi_coef / 2 + spi90d * spi90d_coef + spi30d * spi30d_coef + z * z_coef / 2\",{\n",
    "          \"spi90d\": stb_spi90d_img, \n",
    "          \"spi30d\": stb_spi30d_img, \n",
    "          \"z\": stb_z_img, \n",
    "          \"pdsi_coef\": stb_pdsi_coef,\n",
    "          \"spi90d_coef\": stb_spi90d_coef, \n",
    "          \"spi30d_coef\": stb_spi30d_coef, \n",
    "          \"z_coef\": stb_z_coef})\n",
    "\n",
    "  # Define preliminary variables for long-term blend calculation\n",
    "  ltb_variable = \"long_term_blend\"\n",
    "  ltb_pdsi_img = img.select(\"pdsi\")\n",
    "  ltb_spi180d_img = img.select(\"spi180d\")\n",
    "  ltb_spi1y_img = img.select(\"spi1y\")\n",
    "  ltb_spi2y_img = img.select(\"spi2y\")\n",
    "  ltb_spi5y_img = img.select(\"spi5y\")\n",
    "\n",
    "  # Define weights for long-term blend calculation\n",
    "  ltb_pdsi_coef = 0.35\n",
    "  ltb_spi180d_coef = 0.15\n",
    "  ltb_spi1y_coef = 0.2\n",
    "  ltb_spi2y_coef = 0.2\n",
    "  ltb_spi5y_coef = 0.1\n",
    "\n",
    "  # Calculate short-term blend\n",
    "  ltblend = ltb_pdsi_img.expression(\n",
    "      \"b() * pdsi_coef / 2 + spi180d* spi180d_coef + spi1y * spi1y_coef + spi2y * spi2y_coef + spi5y * spi5y_coef\",{\n",
    "          \"spi180d\": ltb_spi180d_img, \n",
    "          \"spi1y\": ltb_spi1y_img, \n",
    "          \"spi2y\": ltb_spi2y_img, \n",
    "          \"spi5y\": ltb_spi5y_img,\n",
    "          \"spi180d_coef\": ltb_spi180d_coef, \n",
    "          \"spi1y_coef\": ltb_spi1y_coef, \n",
    "          \"spi2y_coef\": ltb_spi2y_coef,\n",
    "          \"spi5y_coef\": ltb_spi5y_coef, \n",
    "          \"pdsi_coef\": ltb_pdsi_coef})\n",
    "  \n",
    "  return ltblend.addBands(stblend).select([0,1], [ltb_variable, stb_variable]).copyProperties(img, property_list)"
   ]
  },
  {
   "cell_type": "code",
   "execution_count": 9,
   "metadata": {
    "id": "KM9i7klXnstr"
   },
   "outputs": [],
   "source": [
    "# Map function to calculate drought blends over the subset years, convert to monthly median images, and convert to multi-band image\n",
    "gm_blends = gm.map(calculate_droughtblends)\n",
    "\n",
    "# Convert to monthly median image\n",
    "def return_monthly_image(month):\n",
    "  month = ee.Date(month)\n",
    "  month_i = gm_blends.filterDate(month, month.advance(1, \"month\"))\n",
    "  return(ee.Image(month_i.median()).set(\"system:index\", month.format('YYYYMM')))\n",
    "\n",
    "gm_blends_months = ee.ImageCollection(ee.List(monthList).map(return_monthly_image))\n",
    "\n",
    "# Convert Image Collection to multi-band image\n",
    "gm_blends_i = gm_blends_months.toBands()\n",
    "# gm_blends_i.bandNames().getInfo()[0:5]"
   ]
  },
  {
   "cell_type": "code",
   "execution_count": 10,
   "metadata": {
    "id": "45mzSEmNJURl"
   },
   "outputs": [],
   "source": [
    "# Get separate time-series images for the two different blends\n",
    "gm_ltb = gm_blends_i.select(['[0-9]{6}_long.*'])\n",
    "gm_stb = gm_blends_i.select(['[0-9]{6}_short.*'])\n",
    "# gm_ltb.bandNames().getInfo()[0:5]"
   ]
  },
  {
   "cell_type": "markdown",
   "metadata": {
    "id": "2EFjWvrHmX3S"
   },
   "source": [
    "### Rangeland Analysis Platform"
   ]
  },
  {
   "cell_type": "code",
   "execution_count": 11,
   "metadata": {
    "colab": {
     "base_uri": "https://localhost:8080/"
    },
    "id": "Ps5wnQuFmXMo",
    "outputId": "671ea767-6981-4027-e138-2e89808a487b"
   },
   "outputs": [],
   "source": [
    "# Create time-series images for RAP cover\n",
    "rapCov_afg = rapCov.select(\"AFG\").toBands()\n",
    "rapCov_bgr = rapCov.select(\"BGR\").toBands()\n",
    "rapCov_ltr = rapCov.select(\"LTR\").toBands()\n",
    "rapCov_pfg = rapCov.select(\"PFG\").toBands()\n",
    "rapCov_shr = rapCov.select(\"SHR\").toBands()\n",
    "rapCov_tre = rapCov.select(\"TRE\").toBands()\n",
    "# rapCov_afg.bandNames().getInfo()[0:5]"
   ]
  },
  {
   "cell_type": "code",
   "execution_count": 12,
   "metadata": {
    "id": "RqiGF-fEnzy-"
   },
   "outputs": [],
   "source": [
    "# Create time-series images for RAP production\n",
    "# Biomass conversion function\n",
    "def biomassFunction(image):\n",
    "    \n",
    "    year = ee.Date(image.get('system:time_start')).format('YYYY')\n",
    "    matYear = mat.filterDate(year).first()\n",
    "    fANPP = (matYear.multiply(0.0129)).add(0.171).rename('fANPP') # fraction of NPP to allocate aboveground\n",
    "  \n",
    "    agb = image.multiply(0.0001).multiply(2.20462).multiply(4046.86).multiply(fANPP).multiply(2.1276)\\\n",
    "    .select(['afgNPP', 'pfgNPP'], ['AFG', 'PFG'])\\\n",
    "    .copyProperties(image, ['system:time_start'])\\\n",
    "    .set('year', year)\n",
    "\n",
    "    herbaceous = ee.Image(agb).reduce(ee.Reducer.sum()).rename(['TOT'])\n",
    "    \n",
    "    agb = ee.Image(agb).addBands(herbaceous)\n",
    "\n",
    "    return agb"
   ]
  },
  {
   "cell_type": "code",
   "execution_count": 13,
   "metadata": {
    "colab": {
     "base_uri": "https://localhost:8080/"
    },
    "id": "XoDZmrhtn123",
    "outputId": "8f8331a3-a225-43d5-835c-a5c6c6c84e07"
   },
   "outputs": [
    {
     "data": {
      "text/plain": [
       "['AFG', 'PFG', 'TOT']"
      ]
     },
     "execution_count": 13,
     "metadata": {},
     "output_type": "execute_result"
    }
   ],
   "source": [
    "# Apply function to annual image collection\n",
    "rapPrd = rapNPP.map(biomassFunction);\n",
    "rapPrd.first().bandNames().getInfo()"
   ]
  },
  {
   "cell_type": "code",
   "execution_count": 14,
   "metadata": {
    "colab": {
     "base_uri": "https://localhost:8080/"
    },
    "id": "6f-ZLeSln56X",
    "outputId": "d56e7387-d6ff-4d90-a653-8c0bf933d0bd"
   },
   "outputs": [
    {
     "data": {
      "text/plain": [
       "['1986_AFG', '1987_AFG', '1988_AFG', '1989_AFG', '1990_AFG']"
      ]
     },
     "execution_count": 14,
     "metadata": {},
     "output_type": "execute_result"
    }
   ],
   "source": [
    "# Create time-series images\n",
    "rapPrd_afg = rapPrd.select(\"AFG\").toBands()\n",
    "rapPrd_pfg = rapPrd.select(\"PFG\").toBands()\n",
    "rapPrd_tot = rapPrd.select(\"TOT\").toBands()\n",
    "rapPrd_afg.bandNames().getInfo()[0:5]"
   ]
  },
  {
   "cell_type": "markdown",
   "metadata": {
    "id": "r-br62MPmlp8"
   },
   "source": [
    "## Reduce regions to time-series centroid Feature Collection"
   ]
  },
  {
   "cell_type": "code",
   "execution_count": 15,
   "metadata": {
    "id": "PENd0SuCmkC8"
   },
   "outputs": [],
   "source": [
    "# # Subset input BLM allotment Feature Collection\n",
    "# # Subset by state\n",
    "# state = \"NV\"\n",
    "# blm_sub = blm.filter(ee.Filter.eq(\"ADMIN_ST\", state))\n",
    "\n",
    "# # Subset by geometry\n",
    "# geometry = ee.Geometry.Polygon([[[-109.4020, 39.7855], [-109.4020, 39.6080], [-109.1823, 39.6080], [-109.1823, 39.7855]]], None, False);\n",
    "# blm_sub = blm.filterBounds(geometry)\n",
    "\n",
    "# Use full Feature Collection\n",
    "blm_sub = blm"
   ]
  },
  {
   "cell_type": "code",
   "execution_count": 16,
   "metadata": {
    "id": "rQ6wyBsa1uWS"
   },
   "outputs": [],
   "source": [
    "# Function to return feature time-series as centroid feature collection\n",
    "def imgs_to_pts(img, res, suffix, date_len):\n",
    "  \n",
    "  # Cast input image to ee.Image\n",
    "  img = ee.Image(img)\n",
    "  \n",
    "  # Run reduce regions for allotments\n",
    "  img_rr = img.reduceRegions(collection = blm_sub,\\\n",
    "                                 reducer = ee.Reducer.mean(),\\\n",
    "                                 scale = res,\\\n",
    "                                 tileScale = 16)\n",
    "  \n",
    "  # Function to clean up property names\n",
    "  def clean_f(f):\n",
    "\n",
    "    # Get uname for allotment\n",
    "    f_uname = f.get(\"uname\")\n",
    "    \n",
    "    # Rename uname for later sorting\n",
    "    f = f.set(\"0_uname\", f_uname)\n",
    "    \n",
    "    return(ee.Feature(f.select(['0_uname', '[0-9]{' + date_len + '}_' + suffix + '.*']))\\\n",
    "                       .centroid())\n",
    "\n",
    "  # Apply function to clean up property names\n",
    "  img_rr = img_rr.map(clean_f)\n",
    "\n",
    "  # Get list of RR features\n",
    "  img_rr_list = img_rr.toList(img_rr.size())\n",
    "\n",
    "  # Get size of RR features\n",
    "  img_rr_size = img_rr_list.size()\n",
    "  \n",
    "  # Function to create feature collection next to equator\n",
    "  def pts_to_equator(i):\n",
    "    \n",
    "      i = ee.Number(i)\n",
    "      \n",
    "      # Get properties\n",
    "      properties = ee.Feature(img_rr_list.get(i)).toDictionary()\n",
    "      \n",
    "      # Create geometry at equator\n",
    "      geom = ee.Geometry.Point([i.multiply(0.002),0])\n",
    "      \n",
    "      # Return object\n",
    "      return(ee.Feature(geom).set(properties))\n",
    "  \n",
    "  # Create equator feature collection\n",
    "  proxy_fc = ee.FeatureCollection(ee.List.sequence(0, img_rr_size.subtract(1), 1).map(pts_to_equator))\n",
    "    \n",
    "  return(proxy_fc.set(\"VarName\", suffix))"
   ]
  },
  {
   "cell_type": "code",
   "execution_count": 17,
   "metadata": {
    "colab": {
     "base_uri": "https://localhost:8080/"
    },
    "id": "KnuYNrSaI3mz",
    "outputId": "63f68e2a-22a9-439b-922f-4ee5f977639e"
   },
   "outputs": [],
   "source": [
    "# Run function for gridMET drought blends\n",
    "blm_sub_gm_ltb = imgs_to_pts(gm_ltb, 4000, \"long_term_blend\", '6')\n",
    "blm_sub_gm_stb = imgs_to_pts(gm_stb, 4000, \"short_term_blend\", '6')\n",
    "# ee.Feature(blm_sub_gm_ltb.first()).propertyNames().getInfo()[0:5]\n",
    "# ee.Feature(blm_sub_gm_ltb.first()).getInfo()"
   ]
  },
  {
   "cell_type": "code",
   "execution_count": 18,
   "metadata": {
    "colab": {
     "base_uri": "https://localhost:8080/"
    },
    "id": "xKD1wdvEJDZt",
    "outputId": "f17554c6-94fd-458f-e227-417c69502951"
   },
   "outputs": [],
   "source": [
    "# Run function for RAP cover\n",
    "blm_sub_rapCov_afg = imgs_to_pts(rapCov_afg, 90, \"AFG\", '4')\n",
    "blm_sub_rapCov_bgr = imgs_to_pts(rapCov_bgr, 90, \"BGR\", '4')\n",
    "blm_sub_rapCov_ltr = imgs_to_pts(rapCov_ltr, 90, \"LTR\", '4')\n",
    "blm_sub_rapCov_pfg = imgs_to_pts(rapCov_pfg, 90, \"PFG\", '4')\n",
    "blm_sub_rapCov_shr = imgs_to_pts(rapCov_shr, 90, \"SHR\", '4')\n",
    "blm_sub_rapCov_tre = imgs_to_pts(rapCov_tre, 90, \"TRE\", '4')\n",
    "# ee.Feature(blm_sub_rapCov_afg.first()).propertyNames().getInfo()[0:5]"
   ]
  },
  {
   "cell_type": "code",
   "execution_count": 19,
   "metadata": {
    "colab": {
     "base_uri": "https://localhost:8080/"
    },
    "id": "uwRdlCqzJDrf",
    "outputId": "3fff1e52-e551-45d5-a8b7-e8a756ac84d3"
   },
   "outputs": [],
   "source": [
    "# Run function for RAP Production\n",
    "blm_sub_rapPrd_afg = imgs_to_pts(rapPrd_afg, 90, \"AFG\", '4')\n",
    "blm_sub_rapPrd_pfg = imgs_to_pts(rapPrd_pfg, 90, \"PFG\", '4')\n",
    "blm_sub_rapPrd_tot = imgs_to_pts(rapPrd_tot, 90, \"TOT\", '4')\n",
    "# ee.Feature(blm_sub_rapPrd_afg.first()).propertyNames().getInfo()[0:5]"
   ]
  },
  {
   "cell_type": "markdown",
   "metadata": {
    "id": "F1mJDvHuKI8o"
   },
   "source": [
    "## Convert centroid time-series to Image Collection time-series"
   ]
  },
  {
   "cell_type": "code",
   "execution_count": 20,
   "metadata": {
    "id": "sqYVcrbJKQxi"
   },
   "outputs": [],
   "source": [
    "# Function to convert centroid time-series feature collection to images\n",
    "def pts_to_ics(fc, date_len):\n",
    "\n",
    "  # Get variable name from Feature Collection \n",
    "  var_name = fc.get(\"VarName\")\n",
    "  \n",
    "  # Get list of property names\n",
    "  names = fc.first()\\\n",
    "          .propertyNames()\\\n",
    "          .sort()\\\n",
    "          .remove(\"system:index\")\n",
    "\n",
    "  # Function to convert features to images and attempt to convert to multiband images \n",
    "  def convert_to_img(property):\n",
    "    \n",
    "    # Get time-series date\n",
    "    property_date = ee.String(property).slice(0, 8)\n",
    "    \n",
    "    # Reduce feature to image and set image properties\n",
    "    img = fc.reduceToImage(properties = [property],\\\n",
    "                           reducer = ee.Reducer.sum())\\\n",
    "                  .set(\"system:index\", property_date)\\\n",
    "                  .set(\"var_name\", var_name)\\\n",
    "                  .rename([var_name])\n",
    "                  \n",
    "    return(img.updateMask(img.neq(0)))\n",
    "\n",
    "  # Apply nested function to band names\n",
    "  var_imgs = names.map(convert_to_img)\n",
    "  \n",
    "  return(ee.ImageCollection(var_imgs))"
   ]
  },
  {
   "cell_type": "code",
   "execution_count": 21,
   "metadata": {
    "id": "uti_bBynLbmC"
   },
   "outputs": [],
   "source": [
    "# Run function for gridMET drought blends\n",
    "blm_sub_gm_ltb_ic = pts_to_ics(blm_sub_gm_ltb, 6)\n",
    "blm_sub_gm_stb_ic = pts_to_ics(blm_sub_gm_stb, 6)"
   ]
  },
  {
   "cell_type": "code",
   "execution_count": 22,
   "metadata": {
    "id": "Ko59Q4lLLeff"
   },
   "outputs": [],
   "source": [
    "# Run function for RAP cover\n",
    "blm_sub_rapCov_afg_ic = pts_to_ics(blm_sub_rapCov_afg, 4)\n",
    "blm_sub_rapCov_bgr_ic = pts_to_ics(blm_sub_rapCov_bgr, 4)\n",
    "blm_sub_rapCov_ltr_ic = pts_to_ics(blm_sub_rapCov_ltr, 4)\n",
    "blm_sub_rapCov_pfg_ic = pts_to_ics(blm_sub_rapCov_pfg, 4)\n",
    "blm_sub_rapCov_shr_ic = pts_to_ics(blm_sub_rapCov_shr, 4)\n",
    "blm_sub_rapCov_tre_ic = pts_to_ics(blm_sub_rapCov_tre, 4)"
   ]
  },
  {
   "cell_type": "code",
   "execution_count": 23,
   "metadata": {
    "id": "YJEEFu1BLep5"
   },
   "outputs": [],
   "source": [
    "# Run function for RAP Production\n",
    "blm_sub_rapPrd_afg_ic = pts_to_ics(blm_sub_rapPrd_afg, 4)\n",
    "blm_sub_rapPrd_pfg_ic = pts_to_ics(blm_sub_rapPrd_pfg, 4)\n",
    "blm_sub_rapPrd_tot_ic = pts_to_ics(blm_sub_rapPrd_tot, 4)"
   ]
  },
  {
   "cell_type": "code",
   "execution_count": 24,
   "metadata": {
    "colab": {
     "base_uri": "https://localhost:8080/",
     "height": 205
    },
    "id": "dX394q1Admjl",
    "outputId": "83786647-d793-4ad5-be7e-2dabcfe2f687"
   },
   "outputs": [],
   "source": [
    "# # Create export geometry\n",
    "# geometry = blm_sub_rapCov_afg.geometry().bounds().buffer(1000)\n",
    "\n",
    "# Map = geemap.Map()\n",
    "# Map.addLayer(ee.Image(blm_sub_gm_ltb_ic.filter(ee.Filter.eq('system:index', '202201_l')).first()))\n",
    "# Map.addLayer(ee.Image(blm_sub_gm_ltb_ic.filter(ee.Filter.eq('system:index', '0_uname')).first()))\n",
    "# # Map.addLayer(geometry)\n",
    "# Map"
   ]
  },
  {
   "cell_type": "markdown",
   "metadata": {
    "id": "lL2M0PMJTN7n"
   },
   "source": [
    "## Export Images to Image Collection Asset"
   ]
  },
  {
   "cell_type": "code",
   "execution_count": 72,
   "metadata": {
    "colab": {
     "base_uri": "https://localhost:8080/"
    },
    "id": "4Uabmqw-Tpps",
    "outputId": "66499f5e-60bd-4dba-fd62-72526131d436"
   },
   "outputs": [
    {
     "name": "stdout",
     "output_type": "stream",
     "text": [
      "0_uname\n",
      "1986_AFG\n",
      "1987_AFG\n",
      "1988_AFG\n",
      "1989_AFG\n",
      "1990_AFG\n",
      "1991_AFG\n",
      "1992_AFG\n",
      "1993_AFG\n",
      "1994_AFG\n",
      "1995_AFG\n",
      "1996_AFG\n",
      "1997_AFG\n",
      "1998_AFG\n",
      "1999_AFG\n",
      "2000_AFG\n",
      "2001_AFG\n",
      "2002_AFG\n",
      "2003_AFG\n",
      "2004_AFG\n",
      "2005_AFG\n",
      "2006_AFG\n",
      "2007_AFG\n",
      "2008_AFG\n",
      "2009_AFG\n",
      "2010_AFG\n",
      "2011_AFG\n",
      "2012_AFG\n",
      "2013_AFG\n",
      "2014_AFG\n",
      "2015_AFG\n",
      "2016_AFG\n",
      "2017_AFG\n",
      "2018_AFG\n",
      "2019_AFG\n",
      "2020_AFG\n",
      "2021_AFG\n"
     ]
    }
   ],
   "source": [
    "# # Drought blends\n",
    "\n",
    "\n",
    "# # -------- Define export parameters -----------\n",
    "\n",
    "# # Define asset to export\n",
    "# # List of potential assets\n",
    "# # 1) blm_sub_gm_ltb_ic\n",
    "# # 2) blm_sub_gm_stb_ic\n",
    "# assetToExport = blm_sub_rapCov_afg_ic\n",
    "# assetToExport_str = 'blm-rap-cover-afg'\n",
    "# blend_suffix = \"_s\"\n",
    "\n",
    "# # Parse Image Collection ID\n",
    "# ic_id = f\"projects/ce-datasets/assets/blm-allotment-ics/{assetToExport_str}\"\n",
    "\n",
    "# # Generate empty Image Collection asset to append images\n",
    "# os.system(f\"earthengine create collection {ic_id}\")\n",
    "\n",
    "\n",
    "# # -------- Get list of image IDs -----------\n",
    "\n",
    "# # # # Get image ID\n",
    "# # # Return from EE IC\n",
    "# # img_ids = assetToExport.aggregate_array('system:index').getInfo()\n",
    "# # print(img_ids)\n",
    "\n",
    "# # Create image ID list for drought blends from monthlist\n",
    "# img_ids = [\"0_uname\"] + [x.replace('-', '')[0:6]+suffix for x in monthList]\n",
    "\n",
    "\n",
    "# # -------- Create export tasks ---------\n",
    "\n",
    "# # Create export geometry\n",
    "# geometry = blm_sub_gm_ltb.geometry().bounds().buffer(1000).bounds()\n",
    "\n",
    "# # Loop over IDs to generate export tasks\n",
    "# for i, img_id in enumerate(img_ids):\n",
    "#     img = ee.Image(assetToExport.filter(ee.Filter.eq('system:index', img_id)).first())\n",
    "#     task = ee.batch.Export.image.toAsset(\n",
    "#         image = ee.Image(img),\n",
    "#         description = img_id.replace(suffix, ''),\n",
    "#         assetId = ic_id + \"/\" + img_id.replace(suffix, ''),\n",
    "#         scale = 222.64,\n",
    "#         region = geometry,\n",
    "#         maxPixels = 1e13\n",
    "#     )\n",
    "    \n",
    "#     task.start()\n",
    "#     print(img_id.replace(suffix, ''))"
   ]
  },
  {
   "cell_type": "code",
   "execution_count": 29,
   "metadata": {},
   "outputs": [
    {
     "name": "stdout",
     "output_type": "stream",
     "text": [
      "0_uname\n",
      "1986_PFG\n",
      "1987_PFG\n",
      "1988_PFG\n",
      "1989_PFG\n",
      "1990_PFG\n",
      "1991_PFG\n",
      "1992_PFG\n",
      "1993_PFG\n",
      "1994_PFG\n",
      "1995_PFG\n",
      "1996_PFG\n",
      "1997_PFG\n",
      "1998_PFG\n",
      "1999_PFG\n",
      "2000_PFG\n",
      "2001_PFG\n",
      "2002_PFG\n",
      "2003_PFG\n",
      "2004_PFG\n",
      "2005_PFG\n",
      "2006_PFG\n",
      "2007_PFG\n",
      "2008_PFG\n",
      "2009_PFG\n",
      "2010_PFG\n",
      "2011_PFG\n",
      "2012_PFG\n",
      "2013_PFG\n",
      "2014_PFG\n",
      "2015_PFG\n",
      "2016_PFG\n",
      "2017_PFG\n",
      "2018_PFG\n",
      "2019_PFG\n",
      "2020_PFG\n",
      "2021_PFG\n"
     ]
    }
   ],
   "source": [
    "# Export RAP images\n",
    "\n",
    "# -------- Define export parameters -----------\n",
    "\n",
    "# Define asset to export\n",
    "# List of potential assets\n",
    "# 1) blm_sub_rapCov_afg_ic\n",
    "# 2) blm_sub_rapCov_bgr_ic\n",
    "# 3) blm_sub_rapCov_ltr_ic\n",
    "# 4) blm_sub_rapCov_pfg_ic\n",
    "# 5) blm_sub_rapCov_shr_ic\n",
    "# 6) blm_sub_rapCov_tre_ic\n",
    "# 7) blm_sub_rapPrd_afg_ic\n",
    "# 8) blm_sub_rapPrd_pfg_ic\n",
    "# 9) blm_sub_rapPrd_tot_ic\n",
    "assetToExport = blm_sub_rapPrd_tot_ic\n",
    "assetToExport_str = 'blm-rap-prod-tot'\n",
    "\n",
    "# Define suffix of object for generating img ids\n",
    "rap_suffix = \"TOT\"\n",
    "\n",
    "# Parse Image Collection ID\n",
    "ic_id = f\"projects/ce-datasets/assets/blm-allotment-ics/{assetToExport_str}\"\n",
    "\n",
    "# Generate empty Image Collection asset to append images\n",
    "# os.system(f\"earthengine create collection {ic_id}\")\n",
    "\n",
    "\n",
    "# -------- Get list of image IDs -----------\n",
    "\n",
    "# # Return from EE IC\n",
    "# img_ids = assetToExport.aggregate_array('system:index').getInfo()\n",
    "# print(img_ids)\n",
    "\n",
    "# Create image ID list for RAP\n",
    "x = range(1986, 2022, 1) \n",
    "img_ids = [\"0_uname\"] + [str(i) + \"_\" + rap_suffix for i in range(1986,2021+1)]\n",
    "\n",
    "\n",
    "# -------- Create export tasks ---------\n",
    "\n",
    "# Create export geometry\n",
    "geometry = blm_sub_rapCov_afg.geometry().bounds().buffer(1000).bounds()\n",
    "\n",
    "# Loop over IDs to generate export tasks\n",
    "for i, img_id in enumerate(img_ids):\n",
    "\n",
    "  img = ee.Image(assetToExport.filter(ee.Filter.eq('system:index', img_id)).first())\n",
    "\n",
    "  task = ee.batch.Export.image.toAsset(\n",
    "    image = ee.Image(img),\n",
    "    description = img_id,\n",
    "    assetId = ic_id + \"/\" + img_id,\n",
    "    scale = 222.64,\n",
    "    region = geometry,\n",
    "    maxPixels = 1e13\n",
    "  )\n",
    "\n",
    "  task.start()\n",
    "  \n",
    "  print(img_id)"
   ]
  },
  {
   "cell_type": "code",
   "execution_count": 76,
   "metadata": {},
   "outputs": [],
   "source": [
    "!earthengine rm --recursive projects/ce-datasets/assets/blm-allotment-ics/blm-rap-cover-afg"
   ]
  }
 ],
 "metadata": {
  "colab": {
   "collapsed_sections": [],
   "name": "Export_BLM_TimeSeries_ImageCollection.ipynb",
   "provenance": []
  },
  "kernelspec": {
   "display_name": "Python 3 (ipykernel)",
   "language": "python",
   "name": "python3"
  },
  "language_info": {
   "codemirror_mode": {
    "name": "ipython",
    "version": 3
   },
   "file_extension": ".py",
   "mimetype": "text/x-python",
   "name": "python",
   "nbconvert_exporter": "python",
   "pygments_lexer": "ipython3",
   "version": "3.9.14"
  }
 },
 "nbformat": 4,
 "nbformat_minor": 1
}
