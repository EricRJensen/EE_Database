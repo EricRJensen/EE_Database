{
 "cells": [
  {
   "cell_type": "code",
   "execution_count": 133,
   "metadata": {
    "colab": {
     "base_uri": "https://localhost:8080/"
    },
    "id": "hTeLmxy6lVf0",
    "outputId": "9ef1ee0e-56a4-4929-f7e5-34fe9ae610d7",
    "scrolled": true
   },
   "outputs": [
    {
     "data": {
      "text/html": [
       "<p>To authorize access needed by Earth Engine, open the following\n",
       "        URL in a web browser and follow the instructions:</p>\n",
       "        <p><a href=https://code.earthengine.google.com/client-auth?scopes=https%3A//www.googleapis.com/auth/earthengine%20https%3A//www.googleapis.com/auth/devstorage.full_control&request_id=OGoVIhgN2l7f6Gp9uOFi1fkFYLNxkRo5HWB7Whysi14&tc=VZxOnGzc4QXgN6DKeQoZnGBpRUg4-g3Cr9Ao_yIQsS0&cc=6Md-u60mzn3S5c0afMttX01_i7MCQwW0-QUTv5SncTo>https://code.earthengine.google.com/client-auth?scopes=https%3A//www.googleapis.com/auth/earthengine%20https%3A//www.googleapis.com/auth/devstorage.full_control&request_id=OGoVIhgN2l7f6Gp9uOFi1fkFYLNxkRo5HWB7Whysi14&tc=VZxOnGzc4QXgN6DKeQoZnGBpRUg4-g3Cr9Ao_yIQsS0&cc=6Md-u60mzn3S5c0afMttX01_i7MCQwW0-QUTv5SncTo</a></p>\n",
       "        <p>The authorization workflow will generate a code, which you should paste in the box below.</p>\n",
       "        "
      ],
      "text/plain": [
       "<IPython.core.display.HTML object>"
      ]
     },
     "metadata": {},
     "output_type": "display_data"
    },
    {
     "name": "stdout",
     "output_type": "stream",
     "text": [
      "Enter verification code: 4/1AWtgzh5T3uGJQI3ztt4lo_aoP1NrjhKlMbMFE8-bJlbIy8d7iXVBWuzkkFA\n",
      "\n",
      "Successfully saved authorization token.\n"
     ]
    }
   ],
   "source": [
    "import ee\n",
    "ee.Authenticate()\n",
    "ee.Initialize()"
   ]
  },
  {
   "cell_type": "code",
   "execution_count": 134,
   "metadata": {
    "id": "pT6KulIXmSWZ"
   },
   "outputs": [],
   "source": [
    "import os\n",
    "import datetime\n",
    "from datetime import date\n",
    "from datetime import timedelta\n",
    "import pandas as pd"
   ]
  },
  {
   "cell_type": "code",
   "execution_count": 135,
   "metadata": {
    "colab": {
     "base_uri": "https://localhost:8080/",
     "height": 1000
    },
    "id": "tqsVXzlDc6w1",
    "outputId": "5e4051c2-b31e-40bd-ee13-0950739171bd"
   },
   "outputs": [],
   "source": [
    "# !pip install geemap\n",
    "import ee\n",
    "import geemap\n",
    "Map = geemap.Map()"
   ]
  },
  {
   "cell_type": "markdown",
   "metadata": {
    "id": "4t-1HOAnF7rL"
   },
   "source": [
    "## Load datasets"
   ]
  },
  {
   "cell_type": "code",
   "execution_count": 136,
   "metadata": {},
   "outputs": [],
   "source": [
    "ic1 = ee.ImageCollection(\"projects/ce-datasets/assets/blm-allotment-ics/blm-gridmet_ltb\")\n",
    "ic2 = ee.ImageCollection(\"projects/ce-datasets/assets/blm-allotment-ics/blm-gridmet_stb\")\n",
    "ic3 = ee.ImageCollection(\"projects/ce-datasets/assets/blm-allotment-ics/blm-rap-cover-afg\")\n",
    "ic4 = ee.ImageCollection(\"projects/ce-datasets/assets/blm-allotment-ics/blm-rap-cover-bgr\")\n",
    "ic5 = ee.ImageCollection(\"projects/ce-datasets/assets/blm-allotment-ics/blm-rap-cover-ltr\")\n",
    "ic6 = ee.ImageCollection(\"projects/ce-datasets/assets/blm-allotment-ics/blm-rap-cover-pfg\")\n",
    "ic7 = ee.ImageCollection(\"projects/ce-datasets/assets/blm-allotment-ics/blm-rap-cover-shr\")\n",
    "ic8 = ee.ImageCollection(\"projects/ce-datasets/assets/blm-allotment-ics/blm-rap-cover-tre\")\n",
    "ic9 = ee.ImageCollection(\"projects/ce-datasets/assets/blm-allotment-ics/blm-rap-prod-afg\")\n",
    "ic10 = ee.ImageCollection(\"projects/ce-datasets/assets/blm-allotment-ics/blm-rap-prod-pfg\")\n",
    "ic11 = ee.ImageCollection(\"projects/ce-datasets/assets/blm-allotment-ics/blm-rap-prod-tot\")"
   ]
  },
  {
   "cell_type": "code",
   "execution_count": 164,
   "metadata": {},
   "outputs": [
    {
     "name": "stdout",
     "output_type": "stream",
     "text": [
      "ic_size 37\n",
      "ic_ids ['0_uname', '1986_TOT', '1987_TOT', '1988_TOT', '1989_TOT', '1990_TOT', '1991_TOT', '1992_TOT', '1993_TOT', '1994_TOT', '1995_TOT', '1996_TOT', '1997_TOT', '1998_TOT', '1999_TOT', '2000_TOT', '2001_TOT', '2002_TOT', '2003_TOT', '2004_TOT', '2005_TOT', '2006_TOT', '2007_TOT', '2008_TOT', '2009_TOT', '2010_TOT', '2011_TOT', '2012_TOT', '2013_TOT', '2014_TOT', '2015_TOT', '2016_TOT', '2017_TOT', '2018_TOT', '2019_TOT', '2020_TOT', '2021_TOT']\n",
      "ic_res 222.64\n"
     ]
    }
   ],
   "source": [
    "# Get parameters to pass to export\n",
    "ic_out_path = 'blm-rap-prod-tot'\n",
    "ic = ic11\n",
    "ic_var = ic.first().get('var_name')\n",
    "ic_size = ic.size().getInfo()\n",
    "print('ic_size', ic_size)\n",
    "ic_list = ic.toList(ic_size)\n",
    "ic_ids_list = ic.aggregate_array('system:index').getInfo()\n",
    "print('ic_ids', ic_ids_list)\n",
    "ic_res = ic.first().projection().nominalScale().getInfo()\n",
    "print('ic_res', ic_res)"
   ]
  },
  {
   "cell_type": "code",
   "execution_count": 165,
   "metadata": {},
   "outputs": [],
   "source": [
    "for i in range(0, ic_size):\n",
    "    \n",
    "    # Get parameters from image to pass to export\n",
    "    img = ee.Image(ic_list.get(i))\n",
    "    id = ic_ids_list[i]\n",
    "    \n",
    "    # Set the export \"scale\" and \"crs\" parameters.\n",
    "    task = ee.batch.Export.image.toAsset(image = img, description = ic_out_path + '-' + id, assetId = 'projects/dri-apps/assets/blm-database/archive/' + ic_out_path + '/' + id,  scale = ic_res, crs = 'EPSG:4326')\n",
    "    \n",
    "    task.start()"
   ]
  }
 ],
 "metadata": {
  "colab": {
   "collapsed_sections": [],
   "name": "Export_BLM_TimeSeries_ImageCollection.ipynb",
   "provenance": []
  },
  "kernelspec": {
   "display_name": "Python 3 (ipykernel)",
   "language": "python",
   "name": "python3"
  },
  "language_info": {
   "codemirror_mode": {
    "name": "ipython",
    "version": 3
   },
   "file_extension": ".py",
   "mimetype": "text/x-python",
   "name": "python",
   "nbconvert_exporter": "python",
   "pygments_lexer": "ipython3",
   "version": "3.9.14"
  }
 },
 "nbformat": 4,
 "nbformat_minor": 1
}
