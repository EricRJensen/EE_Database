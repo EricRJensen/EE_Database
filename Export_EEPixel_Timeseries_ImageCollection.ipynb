{
 "cells": [
  {
   "cell_type": "markdown",
   "metadata": {},
   "source": [
    " ## Import packages and modules"
   ]
  },
  {
   "cell_type": "code",
   "execution_count": 1,
   "metadata": {
    "id": "pT6KulIXmSWZ"
   },
   "outputs": [],
   "source": [
    "from datetime import date\n",
    "from datetime import timedelta\n",
    "import os\n",
    "import datetime\n",
    "import pandas as pd\n",
    "import ee\n",
    "import geemap\n",
    "import os\n",
    "import eeDatabase_coreMethods as eedb_cor\n",
    "import eeDatabase_collectionMethods as eedb_col\n",
    "import eeDatabase_collectionInfo as eedb_colinfo\n",
    "\n",
    "# ee.Authenticate()\n",
    "ee.Initialize(project = \"dri-apps\")\n",
    "\n",
    "Map = geemap.Map()"
   ]
  },
  {
   "cell_type": "markdown",
   "metadata": {
    "id": "4t-1HOAnF7rL"
   },
   "source": [
    "## Define Parameters and Load datasets"
   ]
  },
  {
   "cell_type": "code",
   "execution_count": 48,
   "metadata": {
    "id": "zQPixTuOF658"
   },
   "outputs": [],
   "source": [
    "# ------------------------------------- Define parameters -----------------------------------------------\n",
    "# Define time period to export\n",
    "start_date = datetime.datetime(1980, 1, 1)\n",
    "end_date = datetime.datetime(2024, 1, 1)\n",
    "\n",
    "# -------------------------------- Define input Image Collection ----------------------------------------\n",
    "# Define input dataset\n",
    "# See dictionary below for list of input datasets\n",
    "in_ic_name = 'RAP_16dProduction'\n",
    "\n",
    "# Define variable from dataset\n",
    "# See dictionary below for variables available for each dataset\n",
    "var_name = 'pfgAGB'\n",
    "\n",
    "# ------------------------------- Define input Feature Collection ---------------------------------------\n",
    "# Define input path for Feature Collection\n",
    "in_fc_path = 'projects/dri-apps/assets/blm-admin/blm-natl-grazing-allotment-polygons'\n",
    "in_fc = ee.FeatureCollection(in_fc_path)\n",
    "\n",
    "# ------------------------------ Define mask, if applicable --------------------------------------------\n",
    "# For BLM, we will apply mask to field offices, district offices, and state offices, but not to allotments\n",
    "# Apply mask for ownership, landcover, or other variables. Must be binary mask.\n",
    "mask = False\n",
    "mask_path = 'projects/dri-apps/assets/blm-admin/blm-natl-admu-sma-binary'"
   ]
  },
  {
   "cell_type": "markdown",
   "metadata": {},
   "source": [
    "## Define additional parameters required for functions and output properties below"
   ]
  },
  {
   "cell_type": "code",
   "execution_count": 49,
   "metadata": {},
   "outputs": [],
   "source": [
    "# Define land unit names\n",
    "if(in_fc_path == 'projects/dri-apps/assets/blm-admin/blm-natl-grazing-allotment-polygons'):\n",
    "    land_unit_long = 'BLM_Natl_Grazing_Allotment_Polygons'\n",
    "    land_unit_short = 'BLM_Allotments'\n",
    "    tile_scale = 1\n",
    "    in_fc_id = 'ALLOT_ID'\n",
    "elif(in_fc_path == 'projects/dri-apps/assets/blm-admin/blm-natl-admu-fieldoffice-polygons'):\n",
    "    land_unit_long = 'BLM_Natl_FieldOffice_Polygons'\n",
    "    land_unit_short = 'BLM_FieldOffices'\n",
    "    tile_scale = 16\n",
    "    in_fc_id = 'FO_ID'\n",
    "elif(in_fc_path == 'projects/dri-apps/assets/blm-admin/blm-natl-admu-districtoffice-polygons'):\n",
    "    land_unit_long = 'BLM_Natl_DistrictOffice_Polygons'\n",
    "    land_unit_short = 'BLM_DistrictOffices'\n",
    "    tile_scale = 16\n",
    "    in_fc_id = 'DO_ID'\n",
    "elif(in_fc_path == 'projects/dri-apps/assets/blm-admin/blm-natl-admu-stateoffice-polygons'):\n",
    "    land_unit_long = 'BLM_Natl_StateOffice_Polygons'\n",
    "    land_unit_short = 'BLM_StateOffices',\n",
    "    tile_scale = 16\n",
    "    in_fc_id = 'SO_ID'\n",
    "\n",
    "# Pull out additional variables needed to run exports\n",
    "in_ic_paths = eedb_colinfo.in_ic_dict.get(in_ic_name).get('in_ic_paths')\n",
    "in_ic_res = ee.Number(ee.ImageCollection(in_ic_paths[0]).first().projection().nominalScale()).round().getInfo()\n",
    "var_type = eedb_colinfo.in_ic_dict.get(in_ic_name).get('var_type')\n",
    "var_units = eedb_colinfo.var_dict.get(var_name).get('units')\n",
    "out_path = f\"projects/climate-engine-pro/assets/blm-database/{land_unit_short.replace('_', '').lower()}-{in_ic_name.replace('_', '').lower()}-{var_name.replace('_', '').lower()}\""
   ]
  },
  {
   "cell_type": "markdown",
   "metadata": {},
   "source": [
    "## Create database image collection and append time-series images"
   ]
  },
  {
   "cell_type": "code",
   "execution_count": 50,
   "metadata": {},
   "outputs": [
    {
     "name": "stdout",
     "output_type": "stream",
     "text": [
      "Asset does not exist or is not accessible: projects/climate-engine-pro/assets/blm-database/blmallotments-rap16dproduction-pfgagb\n",
      "Initializing Image Collection by creating EE asset and exporting ID image\n"
     ]
    }
   ],
   "source": [
    "# If there is no Image Collection asset at the out_path create one and export ID image\n",
    "if os.system(f\"earthengine asset info {out_path}\") == 256:\n",
    "\n",
    "    print(\"Initializing Image Collection by creating EE asset and exporting ID image\")\n",
    "    \n",
    "    # Create dictionary of properties\n",
    "    properties = {'system:index': '0_id', 'land_unit_long': land_unit_long, 'land_unit_short': land_unit_short, 'in_fc_path': in_fc_path, \n",
    "                  'in_fc_id': in_fc_id, 'in_ic_path': in_ic_paths[0], 'in_ic_name': in_ic_name, 'in_ic_res': in_ic_res, 'var_type': var_type, \n",
    "                  'var_name': var_name, 'var_units': var_units, 'tile_scale': tile_scale}\n",
    "    if mask == True:\n",
    "            properties['mask_path'] = mask_path\n",
    "    elif mask == False:\n",
    "            properties['mask_path'] = 'None'\n",
    "    eedb_cor.initialize_collection(out_path = out_path, properties = properties)\n",
    "\n",
    "    \n",
    "# If there is an Image Collection asset at the out_path export time-series images\n",
    "elif os.system(f\"earthengine asset info {out_path}\") == 0:\n",
    "\n",
    "    print(f\"Appending to Image Collection for dates {start_date} - {end_date}\")\n",
    "\n",
    "    # Get dates for image collection based on start and end date\n",
    "    dates = eedb_cor.get_collection_dates(in_ic_paths = in_ic_paths, start_date = start_date, end_date = end_date)\n",
    "\n",
    "    # Loop over selected dates to pre-process and export\n",
    "    for date in dates:\n",
    "        \n",
    "        print(\"Running \", datetime.datetime.fromtimestamp(date/1000.0))\n",
    "        \n",
    "        # Parse date for ID\n",
    "        date_ymd = datetime.datetime.fromtimestamp(date/1000.0).strftime('%Y%m%d')\n",
    "        \n",
    "        # Create dictionary of properties for image    \n",
    "        properties = {'system:index': date_ymd, 'system:time_start': date, 'land_unit_long': land_unit_long, 'land_unit_short': land_unit_short, 'in_fc_path': in_fc_path,\\\n",
    "                      'in_fc_id': in_fc_id, 'in_ic_path': in_ic_paths[0], 'in_ic_name': in_ic_name, 'in_ic_res': in_ic_res, 'var_type': var_type,\\\n",
    "                      'var_name': var_name, 'var_units': var_units, 'tile_scale': tile_scale}\n",
    "        if mask == True:\n",
    "            properties['mask_path'] = mask_path\n",
    "        elif mask == False:\n",
    "            properties['mask_path'] = 'None'\n",
    "        \n",
    "        eedb_cor.run_image_export(in_ic_paths = in_ic_paths, date = date, out_path = out_path, properties = properties)"
   ]
  },
  {
   "cell_type": "markdown",
   "metadata": {},
   "source": [
    "## Check completeness of image collections and re-run any images that are missing"
   ]
  },
  {
   "cell_type": "code",
   "execution_count": 13,
   "metadata": {},
   "outputs": [
    {
     "name": "stdout",
     "output_type": "stream",
     "text": [
      "These dates are missing and will be rerun  {504921600000, 536457600000, 599616000000, 631152000000, 567993600000, 662688000000, 694224000000, 725846400000, 757382400000, 788918400000, 820454400000, 1104537600000, 1009843200000, 978307200000, 883612800000, 1199145600000, 1293840000000, 1388534400000, 915148800000, 1483228800000, 1609459200000, 1514764800000, 1420070400000, 1325376000000, 852076800000, 1072915200000, 1167609600000, 1262304000000, 1356998400000, 1577836800000, 1041379200000, 946684800000, 1136073600000, 1230768000000, 1451606400000, 1546300800000, 1640995200000}\n",
      "Running  1985-12-31 17:00:00\n",
      "Running  1986-12-31 17:00:00\n",
      "Running  1988-12-31 17:00:00\n",
      "Running  1989-12-31 17:00:00\n",
      "Running  1987-12-31 17:00:00\n",
      "Running  1990-12-31 17:00:00\n",
      "Running  1991-12-31 17:00:00\n",
      "Running  1992-12-31 17:00:00\n",
      "Running  1993-12-31 17:00:00\n",
      "Running  1994-12-31 17:00:00\n",
      "Running  1995-12-31 17:00:00\n",
      "Running  2004-12-31 17:00:00\n",
      "Running  2001-12-31 17:00:00\n",
      "Running  2000-12-31 17:00:00\n",
      "Running  1997-12-31 17:00:00\n",
      "Running  2007-12-31 17:00:00\n",
      "Running  2010-12-31 17:00:00\n",
      "Running  2013-12-31 17:00:00\n",
      "Running  1998-12-31 17:00:00\n",
      "Running  2016-12-31 17:00:00\n",
      "Running  2020-12-31 17:00:00\n",
      "Running  2017-12-31 17:00:00\n",
      "Running  2014-12-31 17:00:00\n",
      "Running  2011-12-31 17:00:00\n",
      "Running  1996-12-31 17:00:00\n",
      "Running  2003-12-31 17:00:00\n",
      "Running  2006-12-31 17:00:00\n",
      "Running  2009-12-31 17:00:00\n",
      "Running  2012-12-31 17:00:00\n",
      "Running  2019-12-31 17:00:00\n",
      "Running  2002-12-31 17:00:00\n",
      "Running  1999-12-31 17:00:00\n",
      "Running  2005-12-31 17:00:00\n",
      "Running  2008-12-31 17:00:00\n",
      "Running  2015-12-31 17:00:00\n",
      "Running  2018-12-31 17:00:00\n",
      "Running  2021-12-31 17:00:00\n"
     ]
    }
   ],
   "source": [
    "# Get list of all dates\n",
    "all_dates = eedb_cor.get_collection_dates(in_ic_paths, start_date, end_date)\n",
    "\n",
    "# Get list of dates from collection\n",
    "coll_dates = ee.ImageCollection(out_path).aggregate_array('system:time_start').distinct().getInfo()\n",
    "\n",
    "# Get list of dates missing from collection\n",
    "miss_dates = set(all_dates) - set(coll_dates)\n",
    "print(\"These dates are missing and will be rerun \", miss_dates)\n",
    "\n",
    "for date in miss_dates:\n",
    "    print(\"Running \", datetime.datetime.fromtimestamp(date/1000.0))\n",
    "    \n",
    "    # Parse date for ID\n",
    "    date_ymd = datetime.datetime.fromtimestamp(date/1000.0).strftime('%Y%m%d')\n",
    "\n",
    "    # Create dictionary of properties for image    \n",
    "    properties = {'system:index': date_ymd, 'system:time_start': date, 'land_unit_long': land_unit_long, 'land_unit_short': land_unit_short, 'in_fc_path': in_fc_path,\\\n",
    "                'in_fc_id': in_fc_id, 'in_ic_paths': in_ic_paths, 'in_ic_path': in_ic_paths[0], 'in_ic_name': in_ic_name, 'in_ic_res': in_ic_res, 'var_type': var_type,\\\n",
    "                'var_name': var_name, 'var_units': var_units, 'tile_scale': tile_scale, 'mask': mask}\n",
    "    if mask == True:\n",
    "        properties['mask_path'] = mask_path\n",
    "    elif mask == False:\n",
    "        properties['mask_path'] = 'None'\n",
    "        \n",
    "    eedb_cor.run_image_export(in_ic_paths = in_ic_paths, date = date, out_path = out_path, properties = properties)"
   ]
  },
  {
   "cell_type": "code",
   "execution_count": 49,
   "metadata": {},
   "outputs": [
    {
     "data": {
      "text/plain": [
       "2325"
      ]
     },
     "execution_count": 49,
     "metadata": {},
     "output_type": "execute_result"
    }
   ],
   "source": [
    "tasks = !geeadd tasks\n",
    "task_count = int(tasks[1].replace(\"Tasks Pending: \", \"\"))\n",
    "task_count"
   ]
  }
 ],
 "metadata": {
  "colab": {
   "collapsed_sections": [],
   "name": "Export_BLM_TimeSeries_ImageCollection.ipynb",
   "provenance": []
  },
  "kernelspec": {
   "display_name": "Python 3 (ipykernel)",
   "language": "python",
   "name": "python3"
  },
  "language_info": {
   "codemirror_mode": {
    "name": "ipython",
    "version": 3
   },
   "file_extension": ".py",
   "mimetype": "text/x-python",
   "name": "python",
   "nbconvert_exporter": "python",
   "pygments_lexer": "ipython3",
   "version": "3.9.17"
  }
 },
 "nbformat": 4,
 "nbformat_minor": 1
}
