{
 "cells": [
  {
   "cell_type": "markdown",
   "metadata": {},
   "source": [
    " ## Import packages and modules"
   ]
  },
  {
   "cell_type": "code",
   "execution_count": 2,
   "metadata": {
    "id": "pT6KulIXmSWZ"
   },
   "outputs": [
    {
     "data": {
      "text/html": [
       "\n",
       "            <style>\n",
       "                .geemap-dark {\n",
       "                    --jp-widgets-color: white;\n",
       "                    --jp-widgets-label-color: white;\n",
       "                    --jp-ui-font-color1: white;\n",
       "                    --jp-layout-color2: #454545;\n",
       "                    background-color: #383838;\n",
       "                }\n",
       "\n",
       "                .geemap-dark .jupyter-button {\n",
       "                    --jp-layout-color3: #383838;\n",
       "                }\n",
       "\n",
       "                .geemap-colab {\n",
       "                    background-color: var(--colab-primary-surface-color, white);\n",
       "                }\n",
       "\n",
       "                .geemap-colab .jupyter-button {\n",
       "                    --jp-layout-color3: var(--colab-primary-surface-color, white);\n",
       "                }\n",
       "            </style>\n",
       "            "
      ],
      "text/plain": [
       "<IPython.core.display.HTML object>"
      ]
     },
     "metadata": {},
     "output_type": "display_data"
    }
   ],
   "source": [
    "from datetime import date\n",
    "from datetime import timedelta\n",
    "import os\n",
    "import datetime\n",
    "import pandas as pd\n",
    "import ee\n",
    "import geemap\n",
    "import os\n",
    "import eeDatabase_coreMethods as eedb_cor\n",
    "import eeDatabase_collectionMethods as eedb_col\n",
    "import eeDatabase_collectionInfo as eedb_colinfo\n",
    "\n",
    "# ee.Authenticate()\n",
    "ee.Initialize(project = \"dri-apps\")"
   ]
  },
  {
   "cell_type": "markdown",
   "metadata": {
    "id": "4t-1HOAnF7rL"
   },
   "source": [
    "## Define Parameters and Load datasets"
   ]
  },
  {
   "cell_type": "code",
   "execution_count": 11,
   "metadata": {
    "id": "zQPixTuOF658"
   },
   "outputs": [
    {
     "data": {
      "text/html": [
       "\n",
       "            <style>\n",
       "                .geemap-dark {\n",
       "                    --jp-widgets-color: white;\n",
       "                    --jp-widgets-label-color: white;\n",
       "                    --jp-ui-font-color1: white;\n",
       "                    --jp-layout-color2: #454545;\n",
       "                    background-color: #383838;\n",
       "                }\n",
       "\n",
       "                .geemap-dark .jupyter-button {\n",
       "                    --jp-layout-color3: #383838;\n",
       "                }\n",
       "\n",
       "                .geemap-colab {\n",
       "                    background-color: var(--colab-primary-surface-color, white);\n",
       "                }\n",
       "\n",
       "                .geemap-colab .jupyter-button {\n",
       "                    --jp-layout-color3: var(--colab-primary-surface-color, white);\n",
       "                }\n",
       "            </style>\n",
       "            "
      ],
      "text/plain": [
       "<IPython.core.display.HTML object>"
      ]
     },
     "metadata": {},
     "output_type": "display_data"
    }
   ],
   "source": [
    "# ------------------------------------- Define parameters -----------------------------------------------\n",
    "# Define time period to export\n",
    "start_date = datetime.datetime(2008, 1, 1)\n",
    "end_date = datetime.datetime(2025, 1, 1)\n",
    "\n",
    "# -------------------------------- Define input Image Collection ----------------------------------------\n",
    "# Define input dataset\n",
    "# See dictionary below for list of input datasets\n",
    "in_ic_name = 'VegDRI'\n",
    "\n",
    "# Define variable from dataset\n",
    "# See dictionary below for variables available for each dataset\n",
    "var_name = 'vegdri'\n",
    "\n",
    "# ------------------------------- Define input Feature Collection ---------------------------------------\n",
    "# Define input path for Feature Collection\n",
    "in_fc_path = 'projects/dri-apps/assets/blm-admin/blm-natl-admu-fieldoffice-polygons'\n",
    "in_fc = ee.FeatureCollection(in_fc_path)\n",
    "\n",
    "# ------------------------------ Define mask, if applicable --------------------------------------------\n",
    "# For BLM, we will apply mask to field offices, district offices, and state offices, but not to allotments\n",
    "# Apply mask for ownership, landcover, or other variables. Must be binary mask.\n",
    "mask_path = 'projects/dri-apps/assets/blm-admin/blm-natl-admu-sma-binary'"
   ]
  },
  {
   "cell_type": "markdown",
   "metadata": {},
   "source": [
    "## Define additional parameters required for functions and output properties below"
   ]
  },
  {
   "cell_type": "code",
   "execution_count": 12,
   "metadata": {},
   "outputs": [
    {
     "data": {
      "text/html": [
       "\n",
       "            <style>\n",
       "                .geemap-dark {\n",
       "                    --jp-widgets-color: white;\n",
       "                    --jp-widgets-label-color: white;\n",
       "                    --jp-ui-font-color1: white;\n",
       "                    --jp-layout-color2: #454545;\n",
       "                    background-color: #383838;\n",
       "                }\n",
       "\n",
       "                .geemap-dark .jupyter-button {\n",
       "                    --jp-layout-color3: #383838;\n",
       "                }\n",
       "\n",
       "                .geemap-colab {\n",
       "                    background-color: var(--colab-primary-surface-color, white);\n",
       "                }\n",
       "\n",
       "                .geemap-colab .jupyter-button {\n",
       "                    --jp-layout-color3: var(--colab-primary-surface-color, white);\n",
       "                }\n",
       "            </style>\n",
       "            "
      ],
      "text/plain": [
       "<IPython.core.display.HTML object>"
      ]
     },
     "metadata": {},
     "output_type": "display_data"
    }
   ],
   "source": [
    "# Define land unit names\n",
    "if(in_fc_path == 'projects/dri-apps/assets/blm-admin/blm-natl-grazing-allotment-polygons'):\n",
    "    land_unit_long = 'BLM_Natl_Grazing_Allotment_Polygons'\n",
    "    land_unit_short = 'BLM_Allotments'\n",
    "    tile_scale = 1\n",
    "    in_fc_id = 'ALLOT_ID'\n",
    "    fc_mask = False\n",
    "elif(in_fc_path == 'projects/dri-apps/assets/blm-admin/blm-natl-admu-fieldoffice-polygons'):\n",
    "    land_unit_long = 'BLM_Natl_FieldOffice_Polygons'\n",
    "    land_unit_short = 'BLM_FieldOffices'\n",
    "    tile_scale = 1\n",
    "    in_fc_id = 'FO_ID'\n",
    "    fc_mask = True\n",
    "elif(in_fc_path == 'projects/dri-apps/assets/blm-admin/blm-natl-admu-districtoffice-polygons'):\n",
    "    land_unit_long = 'BLM_Natl_DistrictOffice_Polygons'\n",
    "    land_unit_short = 'BLM_DistrictOffices'\n",
    "    tile_scale = 1\n",
    "    in_fc_id = 'DO_ID'\n",
    "    fc_mask = True\n",
    "elif(in_fc_path == 'projects/dri-apps/assets/blm-admin/blm-natl-admu-stateoffice-polygons'):\n",
    "    land_unit_long = 'BLM_Natl_StateOffice_Polygons'\n",
    "    land_unit_short = 'BLM_StateOffices'\n",
    "    tile_scale = 1\n",
    "    in_fc_id = 'SO_ID'\n",
    "    fc_mask = True\n",
    "\n",
    "# Pull out additional variables needed to run exports\n",
    "in_ic_paths = eedb_colinfo.in_ic_dict.get(in_ic_name).get('in_ic_paths')\n",
    "in_ic_res = ee.Number(ee.ImageCollection(in_ic_paths[0]).first().projection().nominalScale()).round().getInfo()\n",
    "var_type = eedb_colinfo.in_ic_dict.get(in_ic_name).get('var_type')\n",
    "var_units = eedb_colinfo.var_dict.get(var_name).get('units')\n",
    "out_path = f\"projects/climate-engine-pro/assets/blm-database/{land_unit_short.replace('_', '').lower()}-{in_ic_name.replace('_', '').lower()}-{var_name.replace('_', '').lower()}\"\n",
    "\n",
    "# Apply mask for remote sensing datasets on larger boundaries\n",
    "if fc_mask == True & eedb_colinfo.in_ic_dict.get(in_ic_name).get('ic_mask') == True:\n",
    "    mask = True\n",
    "else:\n",
    "    mask = False"
   ]
  },
  {
   "cell_type": "markdown",
   "metadata": {},
   "source": [
    "## Create database image collection and append time-series images"
   ]
  },
  {
   "cell_type": "code",
   "execution_count": 15,
   "metadata": {},
   "outputs": [
    {
     "data": {
      "text/html": [
       "\n",
       "            <style>\n",
       "                .geemap-dark {\n",
       "                    --jp-widgets-color: white;\n",
       "                    --jp-widgets-label-color: white;\n",
       "                    --jp-ui-font-color1: white;\n",
       "                    --jp-layout-color2: #454545;\n",
       "                    background-color: #383838;\n",
       "                }\n",
       "\n",
       "                .geemap-dark .jupyter-button {\n",
       "                    --jp-layout-color3: #383838;\n",
       "                }\n",
       "\n",
       "                .geemap-colab {\n",
       "                    background-color: var(--colab-primary-surface-color, white);\n",
       "                }\n",
       "\n",
       "                .geemap-colab .jupyter-button {\n",
       "                    --jp-layout-color3: var(--colab-primary-surface-color, white);\n",
       "                }\n",
       "            </style>\n",
       "            "
      ],
      "text/plain": [
       "<IPython.core.display.HTML object>"
      ]
     },
     "metadata": {},
     "output_type": "display_data"
    },
    {
     "name": "stdout",
     "output_type": "stream",
     "text": [
      "{\n",
      "  \"id\": \"projects/climate-engine-pro/assets/blm-database/blmdistrictoffices-vegdri-vegdri\",\n",
      "  \"name\": \"projects/climate-engine-pro/assets/blm-database/blmdistrictoffices-vegdri-vegdri\",\n",
      "  \"type\": \"IMAGE_COLLECTION\",\n",
      "  \"updateTime\": \"2024-06-11T21:52:10.897574Z\"\n",
      "}\n",
      "{\n",
      "  \"id\": \"projects/climate-engine-pro/assets/blm-database/blmdistrictoffices-vegdri-vegdri\",\n",
      "  \"name\": \"projects/climate-engine-pro/assets/blm-database/blmdistrictoffices-vegdri-vegdri\",\n",
      "  \"type\": \"IMAGE_COLLECTION\",\n",
      "  \"updateTime\": \"2024-06-11T21:52:10.897574Z\"\n",
      "}\n",
      "Appending to Image Collection for dates 2008-01-01 00:00:00 - 2025-01-01 00:00:00\n",
      "Running  2009-04-21 18:00:00\n",
      "Running  2009-04-28 18:00:00\n",
      "Running  2009-05-05 18:00:00\n",
      "Running  2009-05-12 18:00:00\n",
      "Running  2009-05-19 18:00:00\n",
      "Running  2009-05-25 18:00:00\n",
      "Running  2009-06-02 18:00:00\n",
      "Running  2009-06-09 18:00:00\n",
      "Running  2009-06-23 18:00:00\n",
      "Running  2009-07-15 18:00:00\n",
      "Running  2009-07-21 18:00:00\n",
      "Running  2009-07-28 18:00:00\n",
      "Running  2009-08-04 18:00:00\n",
      "Running  2009-08-11 18:00:00\n",
      "Running  2009-08-18 18:00:00\n",
      "Running  2009-08-25 18:00:00\n",
      "Running  2009-09-01 18:00:00\n",
      "Running  2009-09-08 18:00:00\n",
      "Running  2009-09-15 18:00:00\n",
      "Running  2009-09-22 18:00:00\n",
      "Running  2009-09-29 18:00:00\n",
      "Running  2009-10-06 18:00:00\n"
     ]
    }
   ],
   "source": [
    "# If there is no Image Collection asset at the out_path create one and export ID image\n",
    "if os.system(f\"earthengine asset info {out_path}\") == 256:\n",
    "\n",
    "    print(\"Initializing Image Collection by creating EE asset and exporting ID image\")\n",
    "    \n",
    "    # Create dictionary of properties\n",
    "    properties = {'system:index': '0_id', 'land_unit_long': land_unit_long, 'land_unit_short': land_unit_short, 'in_fc_path': in_fc_path, \n",
    "                  'in_fc_id': in_fc_id, 'in_ic_path': in_ic_paths[0], 'in_ic_name': in_ic_name, 'in_ic_res': in_ic_res, 'var_type': var_type, \n",
    "                  'var_name': var_name, 'var_units': var_units, 'tile_scale': tile_scale}\n",
    "    if mask == True:\n",
    "            properties['mask_path'] = mask_path\n",
    "    elif mask == False:\n",
    "            properties['mask_path'] = 'None'\n",
    "    eedb_cor.initialize_collection(out_path = out_path, properties = properties)\n",
    "\n",
    "    \n",
    "# If there is an Image Collection asset at the out_path export time-series images\n",
    "elif os.system(f\"earthengine asset info {out_path}\") == 0:\n",
    "\n",
    "    print(f\"Appending to Image Collection for dates {start_date} - {end_date}\")\n",
    "\n",
    "    # Get dates for image collection based on start and end date\n",
    "    dates = eedb_cor.get_collection_dates(in_ic_paths = in_ic_paths, start_date = start_date, end_date = end_date)\n",
    "\n",
    "    # Loop over selected dates to pre-process and export\n",
    "    for date in dates:\n",
    "        \n",
    "        print(\"Running \", datetime.datetime.fromtimestamp(date/1000.0))\n",
    "        \n",
    "        # Parse date for ID\n",
    "        date_ymd = datetime.datetime.fromtimestamp(date/1000.0).strftime('%Y%m%d')\n",
    "        \n",
    "        # Create dictionary of properties for image    \n",
    "        properties = {'system:index': date_ymd, 'system:time_start': date, 'land_unit_long': land_unit_long, 'land_unit_short': land_unit_short, 'in_fc_path': in_fc_path,\\\n",
    "                      'in_fc_id': in_fc_id, 'in_ic_path': in_ic_paths[0], 'in_ic_name': in_ic_name, 'in_ic_res': in_ic_res, 'var_type': var_type,\\\n",
    "                      'var_name': var_name, 'var_units': var_units, 'tile_scale': tile_scale}\n",
    "        if mask == True:\n",
    "            properties['mask_path'] = mask_path\n",
    "        elif mask == False:\n",
    "            properties['mask_path'] = 'None'\n",
    "        \n",
    "        eedb_cor.run_image_export(in_ic_paths = in_ic_paths, date = date, out_path = out_path, properties = properties)"
   ]
  },
  {
   "cell_type": "markdown",
   "metadata": {},
   "source": [
    "## Check completeness of image collections and re-run any images that are missing"
   ]
  },
  {
   "cell_type": "code",
   "execution_count": 13,
   "metadata": {},
   "outputs": [
    {
     "data": {
      "text/html": [
       "\n",
       "            <style>\n",
       "                .geemap-dark {\n",
       "                    --jp-widgets-color: white;\n",
       "                    --jp-widgets-label-color: white;\n",
       "                    --jp-ui-font-color1: white;\n",
       "                    --jp-layout-color2: #454545;\n",
       "                    background-color: #383838;\n",
       "                }\n",
       "\n",
       "                .geemap-dark .jupyter-button {\n",
       "                    --jp-layout-color3: #383838;\n",
       "                }\n",
       "\n",
       "                .geemap-colab {\n",
       "                    background-color: var(--colab-primary-surface-color, white);\n",
       "                }\n",
       "\n",
       "                .geemap-colab .jupyter-button {\n",
       "                    --jp-layout-color3: var(--colab-primary-surface-color, white);\n",
       "                }\n",
       "            </style>\n",
       "            "
      ],
      "text/plain": [
       "<IPython.core.display.HTML object>"
      ]
     },
     "metadata": {},
     "output_type": "display_data"
    },
    {
     "ename": "EEException",
     "evalue": "ImageCollection.load: ImageCollection asset 'projects/climate-engine-pro/assets/blm-database/blmdistrictoffices-vegdri-vegdri' not found (does not exist or caller does not have access).",
     "output_type": "error",
     "traceback": [
      "\u001b[0;31m---------------------------------------------------------------------------\u001b[0m",
      "\u001b[0;31mHttpError\u001b[0m                                 Traceback (most recent call last)",
      "File \u001b[0;32m/opt/homebrew/lib/python3.11/site-packages/ee/data.py:352\u001b[0m, in \u001b[0;36m_execute_cloud_call\u001b[0;34m(call, num_retries)\u001b[0m\n\u001b[1;32m    351\u001b[0m \u001b[38;5;28;01mtry\u001b[39;00m:\n\u001b[0;32m--> 352\u001b[0m   \u001b[38;5;28;01mreturn\u001b[39;00m \u001b[43mcall\u001b[49m\u001b[38;5;241;43m.\u001b[39;49m\u001b[43mexecute\u001b[49m\u001b[43m(\u001b[49m\u001b[43mnum_retries\u001b[49m\u001b[38;5;241;43m=\u001b[39;49m\u001b[43mnum_retries\u001b[49m\u001b[43m)\u001b[49m\n\u001b[1;32m    353\u001b[0m \u001b[38;5;28;01mexcept\u001b[39;00m googleapiclient\u001b[38;5;241m.\u001b[39merrors\u001b[38;5;241m.\u001b[39mHttpError \u001b[38;5;28;01mas\u001b[39;00m e:\n",
      "File \u001b[0;32m/opt/homebrew/lib/python3.11/site-packages/googleapiclient/_helpers.py:130\u001b[0m, in \u001b[0;36mpositional.<locals>.positional_decorator.<locals>.positional_wrapper\u001b[0;34m(*args, **kwargs)\u001b[0m\n\u001b[1;32m    129\u001b[0m         logger\u001b[38;5;241m.\u001b[39mwarning(message)\n\u001b[0;32m--> 130\u001b[0m \u001b[38;5;28;01mreturn\u001b[39;00m \u001b[43mwrapped\u001b[49m\u001b[43m(\u001b[49m\u001b[38;5;241;43m*\u001b[39;49m\u001b[43margs\u001b[49m\u001b[43m,\u001b[49m\u001b[43m \u001b[49m\u001b[38;5;241;43m*\u001b[39;49m\u001b[38;5;241;43m*\u001b[39;49m\u001b[43mkwargs\u001b[49m\u001b[43m)\u001b[49m\n",
      "File \u001b[0;32m/opt/homebrew/lib/python3.11/site-packages/googleapiclient/http.py:938\u001b[0m, in \u001b[0;36mHttpRequest.execute\u001b[0;34m(self, http, num_retries)\u001b[0m\n\u001b[1;32m    937\u001b[0m \u001b[38;5;28;01mif\u001b[39;00m resp\u001b[38;5;241m.\u001b[39mstatus \u001b[38;5;241m>\u001b[39m\u001b[38;5;241m=\u001b[39m \u001b[38;5;241m300\u001b[39m:\n\u001b[0;32m--> 938\u001b[0m     \u001b[38;5;28;01mraise\u001b[39;00m HttpError(resp, content, uri\u001b[38;5;241m=\u001b[39m\u001b[38;5;28mself\u001b[39m\u001b[38;5;241m.\u001b[39muri)\n\u001b[1;32m    939\u001b[0m \u001b[38;5;28;01mreturn\u001b[39;00m \u001b[38;5;28mself\u001b[39m\u001b[38;5;241m.\u001b[39mpostproc(resp, content)\n",
      "\u001b[0;31mHttpError\u001b[0m: <HttpError 400 when requesting https://earthengine.googleapis.com/v1/projects/dri-apps/value:compute?prettyPrint=false&alt=json returned \"ImageCollection.load: ImageCollection asset 'projects/climate-engine-pro/assets/blm-database/blmdistrictoffices-vegdri-vegdri' not found (does not exist or caller does not have access).\". Details: \"ImageCollection.load: ImageCollection asset 'projects/climate-engine-pro/assets/blm-database/blmdistrictoffices-vegdri-vegdri' not found (does not exist or caller does not have access).\">",
      "\nDuring handling of the above exception, another exception occurred:\n",
      "\u001b[0;31mEEException\u001b[0m                               Traceback (most recent call last)",
      "Cell \u001b[0;32mIn[13], line 5\u001b[0m\n\u001b[1;32m      2\u001b[0m all_dates \u001b[38;5;241m=\u001b[39m eedb_cor\u001b[38;5;241m.\u001b[39mget_collection_dates(in_ic_paths, start_date, end_date)\n\u001b[1;32m      4\u001b[0m \u001b[38;5;66;03m# Get list of dates from collection\u001b[39;00m\n\u001b[0;32m----> 5\u001b[0m coll_dates \u001b[38;5;241m=\u001b[39m \u001b[43mee\u001b[49m\u001b[38;5;241;43m.\u001b[39;49m\u001b[43mImageCollection\u001b[49m\u001b[43m(\u001b[49m\u001b[43mout_path\u001b[49m\u001b[43m)\u001b[49m\u001b[38;5;241;43m.\u001b[39;49m\u001b[43maggregate_array\u001b[49m\u001b[43m(\u001b[49m\u001b[38;5;124;43m'\u001b[39;49m\u001b[38;5;124;43msystem:time_start\u001b[39;49m\u001b[38;5;124;43m'\u001b[39;49m\u001b[43m)\u001b[49m\u001b[38;5;241;43m.\u001b[39;49m\u001b[43mdistinct\u001b[49m\u001b[43m(\u001b[49m\u001b[43m)\u001b[49m\u001b[38;5;241;43m.\u001b[39;49m\u001b[43mgetInfo\u001b[49m\u001b[43m(\u001b[49m\u001b[43m)\u001b[49m\n\u001b[1;32m      7\u001b[0m \u001b[38;5;66;03m# Get list of dates missing from collection\u001b[39;00m\n\u001b[1;32m      8\u001b[0m miss_dates \u001b[38;5;241m=\u001b[39m \u001b[38;5;28msorted\u001b[39m(\u001b[38;5;28mset\u001b[39m(all_dates) \u001b[38;5;241m-\u001b[39m \u001b[38;5;28mset\u001b[39m(coll_dates))\n",
      "File \u001b[0;32m/opt/homebrew/lib/python3.11/site-packages/ee/computedobject.py:105\u001b[0m, in \u001b[0;36mComputedObject.getInfo\u001b[0;34m(self)\u001b[0m\n\u001b[1;32m     99\u001b[0m \u001b[38;5;28;01mdef\u001b[39;00m \u001b[38;5;21mgetInfo\u001b[39m(\u001b[38;5;28mself\u001b[39m) \u001b[38;5;241m-\u001b[39m\u001b[38;5;241m>\u001b[39m Optional[Any]:\n\u001b[1;32m    100\u001b[0m \u001b[38;5;250m  \u001b[39m\u001b[38;5;124;03m\"\"\"Fetch and return information about this object.\u001b[39;00m\n\u001b[1;32m    101\u001b[0m \n\u001b[1;32m    102\u001b[0m \u001b[38;5;124;03m  Returns:\u001b[39;00m\n\u001b[1;32m    103\u001b[0m \u001b[38;5;124;03m    The object can evaluate to anything.\u001b[39;00m\n\u001b[1;32m    104\u001b[0m \u001b[38;5;124;03m  \"\"\"\u001b[39;00m\n\u001b[0;32m--> 105\u001b[0m   \u001b[38;5;28;01mreturn\u001b[39;00m \u001b[43mdata\u001b[49m\u001b[38;5;241;43m.\u001b[39;49m\u001b[43mcomputeValue\u001b[49m\u001b[43m(\u001b[49m\u001b[38;5;28;43mself\u001b[39;49m\u001b[43m)\u001b[49m\n",
      "File \u001b[0;32m/opt/homebrew/lib/python3.11/site-packages/ee/data.py:971\u001b[0m, in \u001b[0;36mcomputeValue\u001b[0;34m(obj)\u001b[0m\n\u001b[1;32m    968\u001b[0m body \u001b[38;5;241m=\u001b[39m {\u001b[38;5;124m'\u001b[39m\u001b[38;5;124mexpression\u001b[39m\u001b[38;5;124m'\u001b[39m: serializer\u001b[38;5;241m.\u001b[39mencode(obj, for_cloud_api\u001b[38;5;241m=\u001b[39m\u001b[38;5;28;01mTrue\u001b[39;00m)}\n\u001b[1;32m    969\u001b[0m _maybe_populate_workload_tag(body)\n\u001b[0;32m--> 971\u001b[0m \u001b[38;5;28;01mreturn\u001b[39;00m \u001b[43m_execute_cloud_call\u001b[49m\u001b[43m(\u001b[49m\n\u001b[1;32m    972\u001b[0m \u001b[43m    \u001b[49m\u001b[43m_get_cloud_projects\u001b[49m\u001b[43m(\u001b[49m\u001b[43m)\u001b[49m\n\u001b[1;32m    973\u001b[0m \u001b[43m    \u001b[49m\u001b[38;5;241;43m.\u001b[39;49m\u001b[43mvalue\u001b[49m\u001b[43m(\u001b[49m\u001b[43m)\u001b[49m\n\u001b[1;32m    974\u001b[0m \u001b[43m    \u001b[49m\u001b[38;5;241;43m.\u001b[39;49m\u001b[43mcompute\u001b[49m\u001b[43m(\u001b[49m\u001b[43mbody\u001b[49m\u001b[38;5;241;43m=\u001b[39;49m\u001b[43mbody\u001b[49m\u001b[43m,\u001b[49m\u001b[43m \u001b[49m\u001b[43mproject\u001b[49m\u001b[38;5;241;43m=\u001b[39;49m\u001b[43m_get_projects_path\u001b[49m\u001b[43m(\u001b[49m\u001b[43m)\u001b[49m\u001b[43m,\u001b[49m\u001b[43m \u001b[49m\u001b[43mprettyPrint\u001b[49m\u001b[38;5;241;43m=\u001b[39;49m\u001b[38;5;28;43;01mFalse\u001b[39;49;00m\u001b[43m)\u001b[49m\n\u001b[1;32m    975\u001b[0m \u001b[43m\u001b[49m\u001b[43m)\u001b[49m[\u001b[38;5;124m'\u001b[39m\u001b[38;5;124mresult\u001b[39m\u001b[38;5;124m'\u001b[39m]\n",
      "File \u001b[0;32m/opt/homebrew/lib/python3.11/site-packages/ee/data.py:354\u001b[0m, in \u001b[0;36m_execute_cloud_call\u001b[0;34m(call, num_retries)\u001b[0m\n\u001b[1;32m    352\u001b[0m   \u001b[38;5;28;01mreturn\u001b[39;00m call\u001b[38;5;241m.\u001b[39mexecute(num_retries\u001b[38;5;241m=\u001b[39mnum_retries)\n\u001b[1;32m    353\u001b[0m \u001b[38;5;28;01mexcept\u001b[39;00m googleapiclient\u001b[38;5;241m.\u001b[39merrors\u001b[38;5;241m.\u001b[39mHttpError \u001b[38;5;28;01mas\u001b[39;00m e:\n\u001b[0;32m--> 354\u001b[0m   \u001b[38;5;28;01mraise\u001b[39;00m _translate_cloud_exception(e)\n",
      "\u001b[0;31mEEException\u001b[0m: ImageCollection.load: ImageCollection asset 'projects/climate-engine-pro/assets/blm-database/blmdistrictoffices-vegdri-vegdri' not found (does not exist or caller does not have access)."
     ]
    }
   ],
   "source": [
    "# Get list of all dates\n",
    "all_dates = eedb_cor.get_collection_dates(in_ic_paths, start_date, end_date)\n",
    "\n",
    "# Get list of dates from collection\n",
    "coll_dates = ee.ImageCollection(out_path).aggregate_array('system:time_start').distinct().getInfo()\n",
    "\n",
    "# Get list of dates missing from collection\n",
    "miss_dates = sorted(set(all_dates) - set(coll_dates))\n",
    "print(\"These dates are missing and will be rerun \", miss_dates)\n",
    "\n",
    "for date in miss_dates:\n",
    "    print(\"Running \", datetime.datetime.fromtimestamp(date/1000.0))\n",
    "    \n",
    "    # Parse date for ID\n",
    "    date_ymd = datetime.datetime.fromtimestamp(date/1000.0).strftime('%Y%m%d')\n",
    "\n",
    "    # Create dictionary of properties for image    \n",
    "    properties = {'system:index': date_ymd, 'system:time_start': date, 'land_unit_long': land_unit_long, 'land_unit_short': land_unit_short, 'in_fc_path': in_fc_path,\\\n",
    "                'in_fc_id': in_fc_id, 'in_ic_paths': in_ic_paths, 'in_ic_path': in_ic_paths[0], 'in_ic_name': in_ic_name, 'in_ic_res': in_ic_res, 'var_type': var_type,\\\n",
    "                'var_name': var_name, 'var_units': var_units, 'tile_scale': tile_scale, 'mask': mask}\n",
    "    if mask == True:\n",
    "        properties['mask_path'] = mask_path\n",
    "    elif mask == False:\n",
    "        properties['mask_path'] = 'None'\n",
    "        \n",
    "    eedb_cor.run_image_export(in_ic_paths = in_ic_paths, date = date, out_path = out_path, properties = properties)"
   ]
  }
 ],
 "metadata": {
  "colab": {
   "collapsed_sections": [],
   "name": "Export_BLM_TimeSeries_ImageCollection.ipynb",
   "provenance": []
  },
  "kernelspec": {
   "display_name": "Python 3 (ipykernel)",
   "language": "python",
   "name": "python3"
  },
  "language_info": {
   "codemirror_mode": {
    "name": "ipython",
    "version": 3
   },
   "file_extension": ".py",
   "mimetype": "text/x-python",
   "name": "python",
   "nbconvert_exporter": "python",
   "pygments_lexer": "ipython3",
   "version": "3.11.5"
  }
 },
 "nbformat": 4,
 "nbformat_minor": 1
}
