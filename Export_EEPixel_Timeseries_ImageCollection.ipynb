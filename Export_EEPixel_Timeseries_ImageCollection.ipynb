{
 "cells": [
  {
   "cell_type": "markdown",
   "metadata": {},
   "source": [
    "To dos\n",
    "1) Fix categorical functions issues (export errors and bad outputs)  \n",
    "2) Apply masks to noData values in outputs  \n",
    "3) Add checks whether image asset already exists  \n",
    "4) Assess whether properties are getting tagged to images  \n",
    "5) Handle custom bin widths of histograms for categorical datasets  \n",
    "6) Generate preprocessing scripts for other datasets  "
   ]
  },
  {
   "cell_type": "code",
   "execution_count": 1,
   "metadata": {
    "id": "pT6KulIXmSWZ"
   },
   "outputs": [],
   "source": [
    "from datetime import date\n",
    "from datetime import timedelta\n",
    "import os\n",
    "import datetime\n",
    "import pandas as pd\n",
    "import ee\n",
    "import geemap\n",
    "import os\n",
    "import eeDatabase_coreMethods as eedb_cor\n",
    "import eeDatabase_collectionMethods as eedb_col\n",
    "import ee\n",
    "\n",
    "# ee.Authenticate()\n",
    "ee.Initialize()\n",
    "\n",
    "Map = geemap.Map()"
   ]
  },
  {
   "cell_type": "markdown",
   "metadata": {
    "id": "4t-1HOAnF7rL"
   },
   "source": [
    "## Define Parameters and Load datasets"
   ]
  },
  {
   "cell_type": "code",
   "execution_count": 21,
   "metadata": {
    "id": "zQPixTuOF658"
   },
   "outputs": [],
   "source": [
    "# ------------------------------------- Define parameters -----------------------------------------------\n",
    "\n",
    "# Define time period to export\n",
    "start_date = datetime.datetime(2022, 1, 1)\n",
    "end_date = datetime.datetime(2022, 5, 1)\n",
    "\n",
    "# Define whether to initialize new image collection or append to existing image collection\n",
    "process = 'append' # 'initialize' or 'append'\n",
    "\n",
    "\n",
    "# -------------------------------- Define input Image Collection ----------------------------------------\n",
    "\n",
    "# Define input Image Collection\n",
    "in_ic_path = \"GRIDMET/DROUGHT\"\n",
    "in_ic = ee.ImageCollection(in_ic_path)\n",
    "\n",
    "# Define variable to generate database table for\n",
    "var_name = 'short_term_drought_blend'\n",
    "var_type = 'continuous' # 'continuous' or 'categorical'\n",
    "\n",
    "\n",
    "# ------------------------------- Define input Feature Collection ---------------------------------------\n",
    "\n",
    "in_fc_path = 'projects/dri-apps/assets/blm-admin/BLM_Natl_Grazing_Allotment_Polygons_Simplified_clean'\n",
    "in_fc = ee.FeatureCollection(in_fc_path)\n",
    "land_unit = 'blm-natl-grazing-allotment-polygons'\n",
    "\n",
    "# # Subset by geometry\n",
    "# geometry = ee.Geometry.Polygon([[[-108.4020, 38.7855], [-108.4020, 39.6080], [-109.1823, 39.6080], [-109.1823, 38.7855]]], None, False);\n",
    "# in_fc = in_fc.filterBounds(geometry)\n",
    "# # Specify ID property\n",
    "# in_fc_id = \"ALLOT_ID\"\n",
    "\n",
    "# Use full Feature Collection\n",
    "in_fc = in_fc\n",
    "# Specify ID property\n",
    "in_fc_id = \"ALLOT_ID\"\n",
    "\n",
    "\n",
    "# --------------------------------- Define database output path -----------------------------------------\n",
    "var_name_exp = var_name.replace('_', '-')\n",
    "out_path = f\"projects/dri-apps/assets/blm-database/{var_name_exp}\"\n"
   ]
  },
  {
   "cell_type": "code",
   "execution_count": 13,
   "metadata": {},
   "outputs": [
    {
     "name": "stdout",
     "output_type": "stream",
     "text": [
      "21591\n"
     ]
    }
   ],
   "source": [
    "print(in_fc.size().getInfo())"
   ]
  },
  {
   "cell_type": "markdown",
   "metadata": {},
   "source": [
    "## Initialize the EE Image Collection and add ID band"
   ]
  },
  {
   "cell_type": "code",
   "execution_count": 14,
   "metadata": {},
   "outputs": [],
   "source": [
    "if process == 'initialize':\n",
    "    \n",
    "    # Create dictionary of properties\n",
    "    properties = {'land-unit': land_unit, 'in-fc-path': in_fc_path, \"in-fc-id\": in_fc_id, \"in-ic-path\": in_ic_path,\n",
    "                  \"var-type\": var_type, \"var-name\": var_name}\n",
    "    \n",
    "    # Apply ID image function to input feature collection\n",
    "    out_list = eedb_cor.generate_id_i(in_fc, properties)\n",
    "    out_i = ee.Image(out_list.get(0))\n",
    "    out_fc = ee.FeatureCollection(out_list.get(1))\n",
    "    \n",
    "    # Generate empty Image Collection asset to append images\n",
    "    os.system(f\"earthengine create collection {out_path}\")\n",
    "    \n",
    "    # Export ID image to new Image Collection\n",
    "    task = ee.batch.Export.image.toAsset(\n",
    "    image = out_i,\n",
    "    description = f'Initialize - {var_name_exp} - id',\n",
    "    assetId = out_path + '/id',\n",
    "    region = out_fc.geometry().buffer(20),\n",
    "    scale = 22.264,\n",
    "    maxPixels = 1e13)\n",
    "    task.start()\n",
    "\n",
    "else:\n",
    "    print('Identify \"Initialize\" as your process to run this cell.')"
   ]
  },
  {
   "cell_type": "markdown",
   "metadata": {
    "id": "K59x-CS-Fwm-"
   },
   "source": [
    "## Pre-process image collection for generating database"
   ]
  },
  {
   "cell_type": "code",
   "execution_count": 16,
   "metadata": {
    "id": "OYGJjcFfmU44"
   },
   "outputs": [
    {
     "name": "stdout",
     "output_type": "stream",
     "text": [
      "['20220105', '20220110', '20220115', '20220120', '20220125', '20220130', '20220204', '20220209', '20220214', '20220219', '20220224', '20220301', '20220306', '20220311', '20220316', '20220321', '20220326', '20220331', '20220405', '20220410', '20220415', '20220420', '20220425', '20220430']\n"
     ]
    }
   ],
   "source": [
    "if in_ic_path == 'GRIDMET/DROUGHT':\n",
    "    \n",
    "    # Run function to pre-process the GridMET drought data\n",
    "    in_i = eedb_col.preprocess_gm_drought(in_ic, var_name, start_date, end_date)\n",
    "    \n",
    "    # Get list of date strings from image\n",
    "    in_dates = in_i.bandNames().getInfo()\n",
    "    print(in_dates)"
   ]
  },
  {
   "cell_type": "markdown",
   "metadata": {},
   "source": [
    "## Loop over dates to produce database image continuous"
   ]
  },
  {
   "cell_type": "code",
   "execution_count": 22,
   "metadata": {},
   "outputs": [
    {
     "name": "stdout",
     "output_type": "stream",
     "text": [
      "20220105\n",
      "20220110\n",
      "20220115\n",
      "20220120\n",
      "20220125\n",
      "20220130\n",
      "20220204\n",
      "20220209\n",
      "20220214\n",
      "20220219\n",
      "20220224\n",
      "20220301\n",
      "20220306\n",
      "20220311\n",
      "20220316\n",
      "20220321\n",
      "20220326\n",
      "20220331\n",
      "20220405\n",
      "20220410\n",
      "20220415\n",
      "20220420\n",
      "20220425\n",
      "20220430\n"
     ]
    }
   ],
   "source": [
    "if var_type == 'continuous':\n",
    "    \n",
    "    # Iterate over in_dates with functions\n",
    "    for in_date in in_dates:\n",
    "        print(in_date)\n",
    "        \n",
    "        # Select date band for single date\n",
    "        in_i_date = in_i.select([in_date])\n",
    "        \n",
    "        # Run function to get time-series statistics for input feature collection for continuous variables\n",
    "        out_fc = eedb_cor.img_to_pts_continuous(in_i_date, in_fc)\n",
    "        # print(out_fc.first().propertyNames().getInfo())\n",
    "        \n",
    "        # Create dictionary of properties\n",
    "        properties = {'in-date': in_date, 'land-unit': land_unit, 'in-fc-path': in_fc_path, \"in-fc-id\": in_fc_id, \"in-ic-path\": in_ic_path,\n",
    "                     \"var-type\": var_type, \"var-name\": var_name}\n",
    "        \n",
    "        # Convert centroid time-series to image collection time-series\n",
    "        out_i = eedb_cor.pts_to_img_continuous(in_fc = out_fc, properties = properties)\n",
    "        \n",
    "        # Export the image\n",
    "        eedb_cor.export_img(out_i, out_path, out_fc, var_name_exp, in_date)\n",
    "\n",
    "else:\n",
    "    print('Identify \"continuous\" as your var_type to run this cell.')"
   ]
  },
  {
   "cell_type": "markdown",
   "metadata": {},
   "source": [
    "## Loop over dates to produce database image continuous"
   ]
  },
  {
   "cell_type": "code",
   "execution_count": 8,
   "metadata": {},
   "outputs": [
    {
     "name": "stdout",
     "output_type": "stream",
     "text": [
      "20220105\n",
      "20220110\n",
      "20220115\n",
      "20220120\n",
      "20220125\n",
      "20220130\n",
      "20220204\n",
      "20220209\n",
      "20220214\n",
      "20220219\n",
      "20220224\n",
      "20220301\n",
      "20220306\n",
      "20220311\n",
      "20220316\n",
      "20220321\n",
      "20220326\n",
      "20220331\n",
      "20220405\n",
      "20220410\n",
      "20220415\n",
      "20220420\n",
      "20220425\n",
      "20220430\n"
     ]
    }
   ],
   "source": [
    "if var_type == 'categorical':\n",
    "    # Iterate over in_dates with functions\n",
    "    for in_date in in_dates:\n",
    "        print(in_date)\n",
    "        \n",
    "        # Select date band\n",
    "        in_i_date = in_i.select([in_date])\n",
    "        \n",
    "        # Run function to get time-series statistics for input feature collection for continuous variables\n",
    "        out_fc = eedb_cor.img_to_pts_categorical(in_i_date, in_fc)\n",
    "        \n",
    "        # Create dictionary of properties\n",
    "        properties = {'in-date': in_date, 'land-unit': land_unit, 'in-fc-path': in_fc_path, \"in-fc-id\": in_fc_id, \"in-ic-path\": in_ic_path,\n",
    "                     \"var-type\": var_type, \"var-name\": var_name}\n",
    "               \n",
    "        # Convert centroid time-series to image collection time-series\n",
    "        out_i = eedb_cor.pts_to_img_categorical(in_fc = out_fc, properties = properties)\n",
    "        \n",
    "        # Export the image\n",
    "        eedb_cor.export_img(out_i, out_path, out_fc, var_name_exp, in_date)\n",
    "    \n",
    "else:\n",
    "    print('Identify \"categorical\" as your var_type to run this cell.')"
   ]
  }
 ],
 "metadata": {
  "colab": {
   "collapsed_sections": [],
   "name": "Export_BLM_TimeSeries_ImageCollection.ipynb",
   "provenance": []
  },
  "kernelspec": {
   "display_name": "Python 3 (ipykernel)",
   "language": "python",
   "name": "python3"
  },
  "language_info": {
   "codemirror_mode": {
    "name": "ipython",
    "version": 3
   },
   "file_extension": ".py",
   "mimetype": "text/x-python",
   "name": "python",
   "nbconvert_exporter": "python",
   "pygments_lexer": "ipython3",
   "version": "3.9.14"
  }
 },
 "nbformat": 4,
 "nbformat_minor": 1
}
