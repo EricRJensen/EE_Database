{
 "cells": [
  {
   "cell_type": "markdown",
   "metadata": {},
   "source": [
    "To dos\n",
    "1) Set up script to first initialize database image collection (create image collection and write ID image) and then to loop over the dates in the input image collection\n",
    "2) Add additional reducers  \n",
    "- For continuous datasets - 5th, 25th, 50th, 75th, and 95th percentile, mean \n",
    "- For categorical datasets - Histogram\n",
    "2) Set up to handle reducers continuous and/or categorical datasets \n",
    "3) Add checks whether image asset already exists  \n",
    "4) Handle NAs\n",
    "5) Set export parameters as properties (resolution, continuous vs. categorical, unit reduced)  \n",
    "6) Right now the exports are run over a specified period of time (one month, one year, etc. — iterated), but may want to assess applying to one image at a time\n",
    "7) Test with RAP"
   ]
  },
  {
   "cell_type": "code",
   "execution_count": 21,
   "metadata": {
    "colab": {
     "base_uri": "https://localhost:8080/"
    },
    "id": "hTeLmxy6lVf0",
    "outputId": "9ef1ee0e-56a4-4929-f7e5-34fe9ae610d7",
    "scrolled": true
   },
   "outputs": [
    {
     "data": {
      "text/html": [
       "<p>To authorize access needed by Earth Engine, open the following\n",
       "        URL in a web browser and follow the instructions:</p>\n",
       "        <p><a href=https://code.earthengine.google.com/client-auth?scopes=https%3A//www.googleapis.com/auth/earthengine%20https%3A//www.googleapis.com/auth/devstorage.full_control&request_id=WPRzd_WhIMz1qhtm3czw-J81tVRPAGt2pB5pQ6esI3k&tc=cmpOUPglqB7w63UlJb_mbrKvYzDV2bu1Wtl7r_UwdQM&cc=IhTbwkDWbrY5y-1WscMTQrz5pCJzjYocyQ4hezq8rr8>https://code.earthengine.google.com/client-auth?scopes=https%3A//www.googleapis.com/auth/earthengine%20https%3A//www.googleapis.com/auth/devstorage.full_control&request_id=WPRzd_WhIMz1qhtm3czw-J81tVRPAGt2pB5pQ6esI3k&tc=cmpOUPglqB7w63UlJb_mbrKvYzDV2bu1Wtl7r_UwdQM&cc=IhTbwkDWbrY5y-1WscMTQrz5pCJzjYocyQ4hezq8rr8</a></p>\n",
       "        <p>The authorization workflow will generate a code, which you should paste in the box below.</p>\n",
       "        "
      ],
      "text/plain": [
       "<IPython.core.display.HTML object>"
      ]
     },
     "metadata": {},
     "output_type": "display_data"
    },
    {
     "name": "stdout",
     "output_type": "stream",
     "text": [
      "Enter verification code: 4/1AWtgzh4_g1aUokRqmZvLx0CZqqt9bjfW8bNZ0IYbruXohc5iFcJ0Of7oldg\n",
      "\n",
      "Successfully saved authorization token.\n"
     ]
    }
   ],
   "source": [
    "import ee\n",
    "ee.Authenticate()\n",
    "ee.Initialize()"
   ]
  },
  {
   "cell_type": "code",
   "execution_count": 22,
   "metadata": {
    "id": "pT6KulIXmSWZ"
   },
   "outputs": [],
   "source": [
    "import os\n",
    "import datetime\n",
    "from datetime import date\n",
    "from datetime import timedelta\n",
    "import pandas as pd"
   ]
  },
  {
   "cell_type": "code",
   "execution_count": 23,
   "metadata": {
    "colab": {
     "base_uri": "https://localhost:8080/",
     "height": 1000
    },
    "id": "tqsVXzlDc6w1",
    "outputId": "5e4051c2-b31e-40bd-ee13-0950739171bd"
   },
   "outputs": [],
   "source": [
    "# !pip install geemap\n",
    "import ee\n",
    "import geemap\n",
    "Map = geemap.Map()"
   ]
  },
  {
   "cell_type": "markdown",
   "metadata": {
    "id": "4t-1HOAnF7rL"
   },
   "source": [
    "## Define Parameters and Load datasets"
   ]
  },
  {
   "cell_type": "code",
   "execution_count": 73,
   "metadata": {
    "id": "zQPixTuOF658"
   },
   "outputs": [],
   "source": [
    "# ------------------------------------- Define parameters -----------------------------------------------\n",
    "\n",
    "# Define time period to export\n",
    "daysToExport = 30\n",
    "startDate = datetime.datetime(2022, 1, 1)\n",
    "\n",
    "# Define whether to initialize new image collection or append to existing image collection\n",
    "process = 'initialize' \n",
    "\n",
    "\n",
    "# -------------------------------- Define input Image Collection ----------------------------------------\n",
    "\n",
    "# Define input Image Collection\n",
    "in_ic_path = \"GRIDMET/DROUGHT\"\n",
    "in_ic = ee.ImageCollection(in_ic_path).filterDate(startDate, startDate + timedelta(days = daysToExport))\n",
    "\n",
    "# Define variable to generate database table for\n",
    "var_name = 'long_term_drought_blend'\n",
    "in_var_type = 'continuous'\n",
    "\n",
    "\n",
    "# ------------------------------- Define input Feature Collection ---------------------------------------\n",
    "\n",
    "in_fc_path = 'projects/dri-apps/assets/blm-admin/BLM_Natl_Grazing_Allotment_Polygons_Simplified_clean'\n",
    "in_fc = ee.FeatureCollection(in_fc_path)\n",
    "land_unit = 'blm-natl-grazing-allotment-polygons'\n",
    "\n",
    "# # Subset by geometry\n",
    "# geometry = ee.Geometry.Polygon([[[-108.4020, 38.7855], [-108.4020, 39.6080], [-109.1823, 39.6080], [-109.1823, 38.7855]]], None, False);\n",
    "# in_fc = in_fc.filterBounds(geometry)\n",
    "# # Specify ID property\n",
    "# in_fc_id = \"ALLOT_ID\"\n",
    "\n",
    "# Use full Feature Collection\n",
    "in_fc = in_fc\n",
    "# Specify ID property\n",
    "in_fc_id = \"ALLOT_ID\"\n",
    "\n",
    "\n",
    "# --------------------------------- Define database output path -----------------------------------------\n",
    "var_name_exp = var_name.replace('_', '-')\n",
    "out_path = f\"projects/dri-apps/assets/blm-database/{var_name_exp}\""
   ]
  },
  {
   "cell_type": "markdown",
   "metadata": {},
   "source": [
    "### Initialize the EE Image Collection and add ID band"
   ]
  },
  {
   "cell_type": "code",
   "execution_count": 74,
   "metadata": {},
   "outputs": [
    {
     "name": "stdout",
     "output_type": "stream",
     "text": [
      "Asset projects/dri-apps/assets/blm-database/long-term-drought-blend already exists.\n"
     ]
    }
   ],
   "source": [
    "# Apply function to select ID column and convert the ID string to numeric\n",
    "def generate_id_i(in_fc):\n",
    "\n",
    "    # Function to select ID band\n",
    "    def select_id(f):\n",
    "        return(f.select([in_fc_id]).set(in_fc_id, ee.Number.parse(ee.Feature(f.get(in_fc_id)))))\n",
    "    in_fc = in_fc.map(select_id)\n",
    "\n",
    "    # Convert feature collection to list\n",
    "    in_fc_list = in_fc.toList(in_fc.size())\n",
    "\n",
    "    # Get size of in_fc_list\n",
    "    in_fc_size = in_fc_list.size()\n",
    "\n",
    "    # Function to create feature collection next to equator\n",
    "    def pts_to_equator(i):\n",
    "\n",
    "        # Cast number to EE number\n",
    "        i = ee.Number(i)\n",
    "        \n",
    "        # Get properties\n",
    "        properties = ee.Feature(in_fc_list.get(i)).toDictionary()\n",
    "        \n",
    "        # Create geometry at equator\n",
    "        geom = ee.Geometry.Point([i.multiply(0.0002), 0.0002])\n",
    "        \n",
    "        # Return object with properties\n",
    "        return(ee.Feature(geom).set(properties))\n",
    "\n",
    "    # Create equator feature collection\n",
    "    out_fc = ee.FeatureCollection(ee.List.sequence(0, in_fc_size.subtract(1), 1).map(pts_to_equator)).set('f_id', 'id')\n",
    "\n",
    "    # Get ID property name\n",
    "    prop = out_fc.first().propertyNames().remove('system:index')\n",
    "\n",
    "    # Reduce ID property to image\n",
    "    id_i = out_fc.reduceToImage(properties = prop, reducer = ee.Reducer.mean())\\\n",
    "            .rename(['id'])\\\n",
    "            .set(\"system:index\", out_fc.get('f_id'))\\\n",
    "            .set(\"land-unit\", land_unit)\\\n",
    "            .set(\"in-fc-path\", in_fc_path)\\\n",
    "            .set(\"in-fc-id\", in_fc_id)\\\n",
    "            .set(\"in-ic-path\", in_ic_path)\\\n",
    "            .set(\"in-var-type\", in_var_type)\\\n",
    "            .set(\"var-name\", var_name)\n",
    "\n",
    "    # Return the id image and the points geometry for creating image export geometry\n",
    "    return(ee.List([id_i, out_fc]))\n",
    "\n",
    "# Apply ID image function to input feature collection\n",
    "out_list = generate_id_i(in_fc)\n",
    "out_i = ee.Image(out_list.get(0))\n",
    "out_fc = ee.FeatureCollection(out_list.get(1))\n",
    "\n",
    "# Generate empty Image Collection asset to append images\n",
    "os.system(f\"earthengine create collection {out_path}\")\n",
    "\n",
    "# Export ID image to new Image Collection\n",
    "task = ee.batch.Export.image.toAsset(\n",
    "    image = id_i,\n",
    "    description = f'Initialize - {var_name_exp} - id',\n",
    "    assetId = out_path + '/id',\n",
    "    region = out_fc.geometry().buffer(20),\n",
    "    scale = 22.264,\n",
    "    maxPixels = 1e13)\n",
    "task.start()"
   ]
  },
  {
   "cell_type": "markdown",
   "metadata": {
    "id": "tpqLcwg5maQb"
   },
   "source": [
    "## Pre-process data"
   ]
  },
  {
   "cell_type": "markdown",
   "metadata": {
    "id": "K59x-CS-Fwm-"
   },
   "source": [
    "### Calculate GridMET drought blends"
   ]
  },
  {
   "cell_type": "code",
   "execution_count": 75,
   "metadata": {
    "id": "OYGJjcFfmU44"
   },
   "outputs": [
    {
     "name": "stdout",
     "output_type": "stream",
     "text": [
      "['20220105', '20220110', '20220115', '20220120', '20220125', '20220130']\n"
     ]
    }
   ],
   "source": [
    "# Define property list\n",
    "property_list = [\"system:index\", \"system:time_start\"]\n",
    "\n",
    "# Function to calculate short-term and long-term blends\n",
    "def preprocess_gm_drought(img):\n",
    "\n",
    "  # Define preliminary variables for short-term blend calculation\n",
    "  stb_variable = \"short_term_drought_blend\"\n",
    "  stb_pdsi_img = img.select(\"pdsi\")\n",
    "  stb_z_img = img.select(\"z\")\n",
    "  stb_spi90d_img = img.select(\"spi90d\")\n",
    "  stb_spi30d_img = img.select(\"spi30d\")\n",
    "\n",
    "  # Define weights for short-term blend calculation\n",
    "  stb_pdsi_coef = 0.2\n",
    "  stb_z_coef = 0.35\n",
    "  stb_spi90d_coef = 0.25\n",
    "  stb_spi30d_coef = 0.2\n",
    "\n",
    "  # Calculate short-term blend\n",
    "  stblend = stb_pdsi_img.expression(\n",
    "      \"b() * pdsi_coef / 2 + spi90d * spi90d_coef + spi30d * spi30d_coef + z * z_coef / 2\",{\n",
    "          \"spi90d\": stb_spi90d_img, \n",
    "          \"spi30d\": stb_spi30d_img, \n",
    "          \"z\": stb_z_img, \n",
    "          \"pdsi_coef\": stb_pdsi_coef,\n",
    "          \"spi90d_coef\": stb_spi90d_coef, \n",
    "          \"spi30d_coef\": stb_spi30d_coef, \n",
    "          \"z_coef\": stb_z_coef})\n",
    "\n",
    "  # Define preliminary variables for long-term blend calculation\n",
    "  ltb_variable = \"long_term_drought_blend\"\n",
    "  ltb_pdsi_img = img.select(\"pdsi\")\n",
    "  ltb_spi180d_img = img.select(\"spi180d\")\n",
    "  ltb_spi1y_img = img.select(\"spi1y\")\n",
    "  ltb_spi2y_img = img.select(\"spi2y\")\n",
    "  ltb_spi5y_img = img.select(\"spi5y\")\n",
    "\n",
    "  # Define weights for long-term blend calculation\n",
    "  ltb_pdsi_coef = 0.35\n",
    "  ltb_spi180d_coef = 0.15\n",
    "  ltb_spi1y_coef = 0.2\n",
    "  ltb_spi2y_coef = 0.2\n",
    "  ltb_spi5y_coef = 0.1\n",
    "\n",
    "  # Calculate short-term blend\n",
    "  ltblend = ltb_pdsi_img.expression(\n",
    "      \"b() * pdsi_coef / 2 + spi180d* spi180d_coef + spi1y * spi1y_coef + spi2y * spi2y_coef + spi5y * spi5y_coef\",{\n",
    "          \"spi180d\": ltb_spi180d_img, \n",
    "          \"spi1y\": ltb_spi1y_img, \n",
    "          \"spi2y\": ltb_spi2y_img, \n",
    "          \"spi5y\": ltb_spi5y_img,\n",
    "          \"spi180d_coef\": ltb_spi180d_coef, \n",
    "          \"spi1y_coef\": ltb_spi1y_coef, \n",
    "          \"spi2y_coef\": ltb_spi2y_coef,\n",
    "          \"spi5y_coef\": ltb_spi5y_coef, \n",
    "          \"pdsi_coef\": ltb_pdsi_coef})\n",
    "  \n",
    "  return ltblend.addBands(stblend).select([0,1], [ltb_variable, stb_variable]).copyProperties(img, property_list)\n",
    "\n",
    "# Map function to calculate drought blends over the subset years, convert to monthly median images, and convert to multi-band image\n",
    "# Filter for dates without NAs for the long term blend\n",
    "in_ic = in_ic.filterDate('1985-01-01', str(date.today()))\\\n",
    "                 .map(preprocess_gm_drought)\n",
    "\n",
    "# Convert Image Collection to multi-band image\n",
    "in_i = in_ic.toBands()\n",
    "\n",
    "# Select variable to serve as input\n",
    "in_i = in_i.select(['[0-9]{8}_' + var_name])\n",
    "\n",
    "# Bandnames must be an eight digit character string 'YYYYMMDD'. Annual data will be 'YYYY0101'.\n",
    "def replace_name(name):\n",
    "  return ee.String(name).replace(var_name, '').replace('_', '')\n",
    "\n",
    "# Finish cleaning input image\n",
    "in_i = in_i.rename(in_i.bandNames().map(replace_name))\n",
    "\n",
    "# Get list of date strings from image\n",
    "in_dates = in_i.bandNames().getInfo()\n",
    "print(in_dates)"
   ]
  },
  {
   "cell_type": "code",
   "execution_count": 66,
   "metadata": {},
   "outputs": [
    {
     "name": "stdout",
     "output_type": "stream",
     "text": [
      "['20220105']\n"
     ]
    }
   ],
   "source": [
    "# Iterate over in_dates with functions\n",
    "in_date = in_dates[0]\n",
    "\n",
    "# Select date band\n",
    "in_i_date = in_i.select([in_date])\n",
    "print(in_i_date.bandNames().getInfo())"
   ]
  },
  {
   "cell_type": "markdown",
   "metadata": {
    "id": "r-br62MPmlp8"
   },
   "source": [
    "## Reduce regions to time-series centroid Feature Collection"
   ]
  },
  {
   "cell_type": "code",
   "execution_count": 67,
   "metadata": {
    "id": "rQ6wyBsa1uWS"
   },
   "outputs": [],
   "source": [
    "# Function to return feature time-series as centroid feature collection for continuous variabless\n",
    "def img_to_pts_continuous(in_i):\n",
    "    \n",
    "    # Cast input image to ee.Image\n",
    "    img = ee.Image(in_i)\n",
    "    \n",
    "    # Get resolution of the image\n",
    "    res = img.select(0).projection().nominalScale()\n",
    "    \n",
    "    # Run reduce regions for allotments and select only the columns with reducers\n",
    "    img_rr = img.reduceRegions(collection = in_fc, reducer = ee.Reducer.percentile([5, 25, 50, 75, 95])\\\n",
    "                                .combine(reducer2 = ee.Reducer.mean(), sharedInputs = True),\\\n",
    "                                scale = res,\\\n",
    "                                tileScale = 16).select(['mean', 'p.*'])\n",
    "    \n",
    "    # Get list of RR features\n",
    "    img_rr_list = img_rr.toList(img_rr.size())\n",
    "    \n",
    "    # Get size of RR features\n",
    "    img_rr_size = img_rr_list.size()\n",
    "    \n",
    "    # Function to create feature collection next to equator\n",
    "    def pts_to_equator(i):\n",
    "        \n",
    "        # Cast number to EE number\n",
    "        i = ee.Number(i)\n",
    "        \n",
    "        # Get properties\n",
    "        properties = ee.Feature(img_rr_list.get(i)).toDictionary()\n",
    "        \n",
    "        # Create geometry at equator\n",
    "        geom = ee.Geometry.Point([i.multiply(0.0002),0.0002])\n",
    "        \n",
    "        # Return object with properties\n",
    "        return(ee.Feature(geom).set(properties))\n",
    "    \n",
    "    # Create equator feature collection\n",
    "    equator_fc = ee.FeatureCollection(ee.List.sequence(0, img_rr_size.subtract(1), 1).map(pts_to_equator))\n",
    "    \n",
    "    return(equator_fc)"
   ]
  },
  {
   "cell_type": "code",
   "execution_count": 68,
   "metadata": {
    "colab": {
     "base_uri": "https://localhost:8080/"
    },
    "id": "KnuYNrSaI3mz",
    "outputId": "63f68e2a-22a9-439b-922f-4ee5f977639e"
   },
   "outputs": [
    {
     "name": "stdout",
     "output_type": "stream",
     "text": [
      "['mean', 'p25', 'p5', 'p50', 'p75', 'p95', 'system:index']\n",
      "148\n"
     ]
    }
   ],
   "source": [
    "# Run function to get time-series statistics for input feature collection for continuous variables\n",
    "out_fc = img_to_pts_continuous(in_i_date)\n",
    "print(out_fc.first().propertyNames().sort().getInfo())\n",
    "print(out_fc.size().getInfo())"
   ]
  },
  {
   "cell_type": "markdown",
   "metadata": {
    "id": "F1mJDvHuKI8o"
   },
   "source": [
    "## Convert centroid time-series to Image Collection time-series"
   ]
  },
  {
   "cell_type": "code",
   "execution_count": 69,
   "metadata": {},
   "outputs": [],
   "source": [
    "# Function to generate series image collection from feature collections\n",
    "def pts_to_img_continuous(in_fc):\n",
    "    \n",
    "    # Cast to FeatureCollections\n",
    "    fc = ee.FeatureCollection(in_fc)\n",
    "    \n",
    "    # Get list of properties to iterate over for creating multiband image for each date\n",
    "    props = fc.first().propertyNames().remove('system:index')\n",
    "    \n",
    "    # Function to generate image from stats stored in Feature Collection property\n",
    "    def generate_stat_image(prop):\n",
    "        img = fc.reduceToImage(properties = [prop], reducer = ee.Reducer.sum()).rename([prop])\n",
    "        return(img)\n",
    "    \n",
    "    # Generate multi-band stats image\n",
    "    img_mb = ee.ImageCollection(props.map(generate_stat_image)).toBands()\\\n",
    "            .rename(props)\\\n",
    "            .set(\"system:index\", out_fc.get('f_id'))\\\n",
    "            .set(\"land-unit\", land_unit)\\\n",
    "            .set(\"in-fc-path\", in_fc_path)\\\n",
    "            .set(\"in-fc-id\", in_fc_id)\\\n",
    "            .set(\"in-ic-path\", in_ic_path)\\\n",
    "            .set(\"in-var-type\", in_var_type)\\\n",
    "            .set(\"var-name\", var_name)\n",
    "    \n",
    "    return(img_mb)"
   ]
  },
  {
   "cell_type": "code",
   "execution_count": 70,
   "metadata": {
    "id": "uti_bBynLbmC"
   },
   "outputs": [
    {
     "name": "stdout",
     "output_type": "stream",
     "text": [
      "['p25', 'p5', 'mean', 'p50', 'p95', 'p75']\n"
     ]
    }
   ],
   "source": [
    "# Convert centroid time-series to image collection time-series\n",
    "out_i_date = pts_to_img_continuous(out_fc)\n",
    "print(out_i_date.bandNames().getInfo())"
   ]
  },
  {
   "cell_type": "code",
   "execution_count": 31,
   "metadata": {
    "colab": {
     "base_uri": "https://localhost:8080/",
     "height": 205
    },
    "collapsed": true,
    "id": "dX394q1Admjl",
    "outputId": "83786647-d793-4ad5-be7e-2dabcfe2f687"
   },
   "outputs": [
    {
     "data": {
      "application/vnd.jupyter.widget-view+json": {
       "model_id": "07fc609460464c54b20257f9fa76242d",
       "version_major": 2,
       "version_minor": 0
      },
      "text/plain": [
       "Map(center=[20, 0], controls=(WidgetControl(options=['position', 'transparent_bg'], widget=HBox(children=(Togg…"
      ]
     },
     "metadata": {},
     "output_type": "display_data"
    }
   ],
   "source": [
    "# # Create export geometry\n",
    "# geometry = rr_fc.geometry().bounds().buffer(1000)\n",
    "\n",
    "# Map = geemap.Map()\n",
    "# Map.addLayer(ee.Image(rr_ic.first()))\n",
    "# Map.addLayer(geometry)\n",
    "# Map"
   ]
  },
  {
   "cell_type": "markdown",
   "metadata": {
    "id": "lL2M0PMJTN7n"
   },
   "source": [
    "## Export Images to Image Collection Asset"
   ]
  },
  {
   "cell_type": "code",
   "execution_count": 72,
   "metadata": {
    "colab": {
     "base_uri": "https://localhost:8080/"
    },
    "id": "4Uabmqw-Tpps",
    "outputId": "66499f5e-60bd-4dba-fd62-72526131d436"
   },
   "outputs": [],
   "source": [
    "# Export ID image to new Image Collection\n",
    "task = ee.batch.Export.image.toAsset(\n",
    "    image = out_i_date,\n",
    "    description = f'Initialize - {var_name_exp} - {in_date}',\n",
    "    assetId = f'{out_path}/{in_date}',\n",
    "    region = out_fc.geometry().buffer(20),\n",
    "    scale = 22.264,\n",
    "    maxPixels = 1e13)\n",
    "task.start()"
   ]
  },
  {
   "cell_type": "code",
   "execution_count": 76,
   "metadata": {},
   "outputs": [],
   "source": [
    "!earthengine rm --recursive projects/ce-datasets/assets/blm-allotment-ics/blm-rap-cover-afg"
   ]
  }
 ],
 "metadata": {
  "colab": {
   "collapsed_sections": [],
   "name": "Export_BLM_TimeSeries_ImageCollection.ipynb",
   "provenance": []
  },
  "kernelspec": {
   "display_name": "Python 3 (ipykernel)",
   "language": "python",
   "name": "python3"
  },
  "language_info": {
   "codemirror_mode": {
    "name": "ipython",
    "version": 3
   },
   "file_extension": ".py",
   "mimetype": "text/x-python",
   "name": "python",
   "nbconvert_exporter": "python",
   "pygments_lexer": "ipython3",
   "version": "3.9.14"
  }
 },
 "nbformat": 4,
 "nbformat_minor": 1
}
