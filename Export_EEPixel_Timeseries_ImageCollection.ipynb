{
 "cells": [
  {
   "cell_type": "markdown",
   "metadata": {},
   "source": [
    "To dos\n",
    "1) Add additional functions (For categorical datasets - Histogram)\n",
    "2) Improve logic and UX of main script\n",
    "3) Add checks whether image asset already exists  \n",
    "4) Handle NAs\n",
    "5) Generate preprocessing scripts for other datasets"
   ]
  },
  {
   "cell_type": "code",
   "execution_count": 1,
   "metadata": {
    "colab": {
     "base_uri": "https://localhost:8080/"
    },
    "id": "hTeLmxy6lVf0",
    "outputId": "9ef1ee0e-56a4-4929-f7e5-34fe9ae610d7",
    "scrolled": true
   },
   "outputs": [],
   "source": [
    "import ee\n",
    "# ee.Authenticate()\n",
    "ee.Initialize()"
   ]
  },
  {
   "cell_type": "code",
   "execution_count": 2,
   "metadata": {
    "id": "pT6KulIXmSWZ"
   },
   "outputs": [],
   "source": [
    "from datetime import date\n",
    "from datetime import timedelta\n",
    "import os\n",
    "import datetime\n",
    "import pandas as pd\n",
    "import ee\n",
    "import geemap\n",
    "import os\n",
    "import eeDatabase_coreMethods as eedb_cor\n",
    "import eeDatabase_collectionMethods as eedb_col\n",
    "\n",
    "Map = geemap.Map()"
   ]
  },
  {
   "cell_type": "markdown",
   "metadata": {
    "id": "4t-1HOAnF7rL"
   },
   "source": [
    "## Define Parameters and Load datasets"
   ]
  },
  {
   "cell_type": "code",
   "execution_count": 3,
   "metadata": {
    "id": "zQPixTuOF658"
   },
   "outputs": [],
   "source": [
    "# ------------------------------------- Define parameters -----------------------------------------------\n",
    "\n",
    "# Define time period to export\n",
    "start_date = datetime.datetime(2022, 3, 1)\n",
    "end_date = datetime.datetime(2022, 5, 1)\n",
    "\n",
    "# Define whether to initialize new image collection or append to existing image collection\n",
    "process = 'initialize' \n",
    "\n",
    "\n",
    "# -------------------------------- Define input Image Collection ----------------------------------------\n",
    "\n",
    "# Define input Image Collection\n",
    "in_ic_path = \"GRIDMET/DROUGHT\"\n",
    "in_ic = ee.ImageCollection(in_ic_path)\n",
    "\n",
    "# Define variable to generate database table for\n",
    "var_name = 'long_term_drought_blend'\n",
    "in_var_type = 'continuous'\n",
    "\n",
    "\n",
    "# ------------------------------- Define input Feature Collection ---------------------------------------\n",
    "\n",
    "in_fc_path = 'projects/dri-apps/assets/blm-admin/BLM_Natl_Grazing_Allotment_Polygons_Simplified_clean'\n",
    "in_fc = ee.FeatureCollection(in_fc_path)\n",
    "land_unit = 'blm-natl-grazing-allotment-polygons'\n",
    "\n",
    "# # Subset by geometry\n",
    "# geometry = ee.Geometry.Polygon([[[-108.4020, 38.7855], [-108.4020, 39.6080], [-109.1823, 39.6080], [-109.1823, 38.7855]]], None, False);\n",
    "# in_fc = in_fc.filterBounds(geometry)\n",
    "# # Specify ID property\n",
    "# in_fc_id = \"ALLOT_ID\"\n",
    "\n",
    "# Use full Feature Collection\n",
    "in_fc = in_fc\n",
    "# Specify ID property\n",
    "in_fc_id = \"ALLOT_ID\"\n",
    "\n",
    "\n",
    "# --------------------------------- Define database output path -----------------------------------------\n",
    "var_name_exp = var_name.replace('_', '-')\n",
    "out_path = f\"projects/dri-apps/assets/blm-database/{var_name_exp}\"\n"
   ]
  },
  {
   "cell_type": "markdown",
   "metadata": {},
   "source": [
    "## Initialize the EE Image Collection and add ID band"
   ]
  },
  {
   "cell_type": "code",
   "execution_count": 4,
   "metadata": {},
   "outputs": [
    {
     "name": "stdout",
     "output_type": "stream",
     "text": [
      "Asset projects/dri-apps/assets/blm-database/long-term-drought-blend already exists.\n"
     ]
    }
   ],
   "source": [
    "# Apply ID image function to input feature collection\n",
    "out_list = eedb_cor.generate_id_i(in_fc, in_fc_id, land_unit, in_fc_path, in_ic_path, in_var_type, var_name)\n",
    "out_i = ee.Image(out_list.get(0))\n",
    "out_fc = ee.FeatureCollection(out_list.get(1))\n",
    "\n",
    "# Generate empty Image Collection asset to append images\n",
    "os.system(f\"earthengine create collection {out_path}\")\n",
    "\n",
    "# Export ID image to new Image Collection\n",
    "task = ee.batch.Export.image.toAsset(\n",
    "    image = out_i,\n",
    "    description = f'Initialize - {var_name_exp} - id',\n",
    "    assetId = out_path + '/id',\n",
    "    region = out_fc.geometry().buffer(20),\n",
    "    scale = 22.264,\n",
    "    maxPixels = 1e13)\n",
    "task.start()"
   ]
  },
  {
   "cell_type": "markdown",
   "metadata": {
    "id": "K59x-CS-Fwm-"
   },
   "source": [
    "## Pre-process image collection for generating database"
   ]
  },
  {
   "cell_type": "code",
   "execution_count": 4,
   "metadata": {
    "collapsed": true,
    "id": "OYGJjcFfmU44"
   },
   "outputs": [
    {
     "name": "stdout",
     "output_type": "stream",
     "text": [
      "['20220301', '20220306', '20220311', '20220316', '20220321', '20220326', '20220331', '20220405', '20220410', '20220415', '20220420', '20220425', '20220430']\n"
     ]
    }
   ],
   "source": [
    "# Run function to pre-process the GridMET drought data\n",
    "in_i = eedb_col.preprocess_gm_drought(in_ic, var_name, start_date, end_date)\n",
    "\n",
    "# Get list of date strings from image\n",
    "in_dates = in_i.bandNames().getInfo()\n",
    "# print(in_dates)"
   ]
  },
  {
   "cell_type": "markdown",
   "metadata": {},
   "source": [
    "## Loop over dates to produce database image"
   ]
  },
  {
   "cell_type": "code",
   "execution_count": 30,
   "metadata": {
    "collapsed": true
   },
   "outputs": [
    {
     "name": "stdout",
     "output_type": "stream",
     "text": [
      "20220105\n",
      "20220110\n",
      "20220115\n",
      "20220120\n",
      "20220125\n",
      "20220130\n",
      "20220204\n",
      "20220209\n",
      "20220214\n",
      "20220219\n",
      "20220224\n"
     ]
    }
   ],
   "source": [
    "# Iterate over in_dates with functions\n",
    "for in_date in in_dates:\n",
    "    print(in_date)\n",
    "    \n",
    "    # Select date band\n",
    "    in_i_date = in_i.select([in_date])\n",
    "    \n",
    "    # Run function to get time-series statistics for input feature collection for continuous variables\n",
    "    out_fc = img_to_pts_continuous(in_fc, out_fc, land_unit, in_fc_path, in_fc_id, in_ic_path, in_var_type, var_name)\n",
    "    \n",
    "    # Convert centroid time-series to image collection time-series\n",
    "    out_i_date = pts_to_img_continuous(out_fc)\n",
    "    \n",
    "    # Export the image\n",
    "    export_img(out_i_date, out_path, out_fc, var_name_exp, in_date)"
   ]
  }
 ],
 "metadata": {
  "colab": {
   "collapsed_sections": [],
   "name": "Export_BLM_TimeSeries_ImageCollection.ipynb",
   "provenance": []
  },
  "kernelspec": {
   "display_name": "Python 3 (ipykernel)",
   "language": "python",
   "name": "python3"
  },
  "language_info": {
   "codemirror_mode": {
    "name": "ipython",
    "version": 3
   },
   "file_extension": ".py",
   "mimetype": "text/x-python",
   "name": "python",
   "nbconvert_exporter": "python",
   "pygments_lexer": "ipython3",
   "version": "3.9.14"
  }
 },
 "nbformat": 4,
 "nbformat_minor": 1
}
