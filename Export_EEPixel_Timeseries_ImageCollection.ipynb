{
 "cells": [
  {
   "cell_type": "markdown",
   "metadata": {},
   "source": [
    " ## Import packages and modules"
   ]
  },
  {
   "cell_type": "code",
   "execution_count": 1,
   "metadata": {
    "id": "pT6KulIXmSWZ"
   },
   "outputs": [],
   "source": [
    "from datetime import date\n",
    "from datetime import timedelta\n",
    "import os\n",
    "import datetime\n",
    "import pandas as pd\n",
    "import ee\n",
    "import geemap\n",
    "import os\n",
    "import eeDatabase_coreMethods as eedb_cor\n",
    "import eeDatabase_collectionMethods as eedb_col\n",
    "import eeDatabase_collectionInfo as eedb_colinfo\n",
    "\n",
    "# ee.Authenticate()\n",
    "ee.Initialize(project = \"climate-engine-pro\")\n",
    "\n",
    "Map = geemap.Map()"
   ]
  },
  {
   "cell_type": "markdown",
   "metadata": {
    "id": "4t-1HOAnF7rL"
   },
   "source": [
    "## Define Parameters and Load datasets"
   ]
  },
  {
   "cell_type": "code",
   "execution_count": 2,
   "metadata": {
    "id": "zQPixTuOF658"
   },
   "outputs": [],
   "source": [
    "# ------------------------------------- Define parameters -----------------------------------------------\n",
    "# Define time period to export\n",
    "start_date = datetime.datetime(1980, 1, 1)\n",
    "end_date = datetime.datetime(2024, 1, 1)\n",
    "\n",
    "# -------------------------------- Define input Image Collection ----------------------------------------\n",
    "# Define input dataset\n",
    "# See dictionary below for list of input datasets\n",
    "in_ic_name = 'GridMET'\n",
    "\n",
    "# Define variable from dataset\n",
    "# See dictionary below for variables available for each dataset\n",
    "var_name = 'eto'\n",
    "\n",
    "# ------------------------------- Define input Feature Collection ---------------------------------------\n",
    "# Define input path for Feature Collection\n",
    "in_fc_path = 'projects/dri-apps/assets/blm-admin/blm-natl-admu-districtoffice-polygons'\n",
    "in_fc = ee.FeatureCollection(in_fc_path)\n",
    "\n",
    "# ------------------------------ Define mask, if applicable --------------------------------------------\n",
    "# For BLM, we will apply mask to field offices, district offices, and state offices, but not to allotments\n",
    "# Apply mask for ownership, landcover, or other variables. Must be binary mask.\n",
    "mask = True\n",
    "mask_path = 'projects/dri-apps/assets/blm-admin/blm-natl-admu-sma-binary'"
   ]
  },
  {
   "cell_type": "markdown",
   "metadata": {},
   "source": [
    "## Define additional parameters required for functions and output properties below"
   ]
  },
  {
   "cell_type": "code",
   "execution_count": 3,
   "metadata": {},
   "outputs": [],
   "source": [
    "# Define land unit names\n",
    "if(in_fc_path == 'projects/dri-apps/assets/blm-admin/blm-natl-grazing-allotment-polygons'):\n",
    "    land_unit_long = 'BLM_Natl_Grazing_Allotment_Polygons'\n",
    "    land_unit_short = 'BLM_Allotments'\n",
    "    in_fc_id = 'ALLOT_ID'\n",
    "elif(in_fc_path == 'projects/dri-apps/assets/blm-admin/blm-natl-admu-fieldoffice-polygons'):\n",
    "    land_unit_long = 'BLM_Natl_FieldOffice_Polygons'\n",
    "    land_unit_short = 'BLM_FieldOffices'\n",
    "    in_fc_id = 'FO_ID'\n",
    "elif(in_fc_path == 'projects/dri-apps/assets/blm-admin/blm-natl-admu-districtoffice-polygons'):\n",
    "    land_unit_long = 'BLM_Natl_DistrictOffice_Polygons'\n",
    "    land_unit_short = 'BLM_DistrictOffices'\n",
    "    in_fc_id = 'DO_ID'\n",
    "elif(in_fc_path == 'projects/dri-apps/assets/blm-admin/blm-natl-admu-stateoffice-polygons'):\n",
    "    land_unit_long = 'BLM_Natl_StateOffice_Polygons'\n",
    "    land_unit_short = 'BLM_StateOffices'\n",
    "    in_fc_id = 'SO_ID'\n",
    "\n",
    "# Pull out additional variables needed to run exports\n",
    "in_ic_paths = eedb_colinfo.in_ic_dict.get(in_ic_name).get('in_ic_paths')\n",
    "in_ic_res = ee.Number(ee.ImageCollection(in_ic_paths[0]).first().projection().nominalScale()).round().getInfo()\n",
    "var_type = eedb_colinfo.in_ic_dict.get(in_ic_name).get('var_type')\n",
    "var_units = eedb_colinfo.var_dict.get(var_name).get('units')\n",
    "out_path = f\"projects/climate-engine-pro/assets/blm-database/{land_unit_short.replace('_', '').lower()}-{in_ic_name.replace('_', '').lower()}-{var_name.replace('_', '').lower()}\""
   ]
  },
  {
   "cell_type": "markdown",
   "metadata": {},
   "source": [
    "## Create database image collection and append time-series images"
   ]
  },
  {
   "cell_type": "code",
   "execution_count": null,
   "metadata": {},
   "outputs": [
    {
     "name": "stdout",
     "output_type": "stream",
     "text": [
      "{\n",
      "  \"id\": \"projects/climate-engine-pro/assets/blm-database/blmdistrictoffices-gridmet-eto\",\n",
      "  \"name\": \"projects/climate-engine-pro/assets/blm-database/blmdistrictoffices-gridmet-eto\",\n",
      "  \"type\": \"IMAGE_COLLECTION\",\n",
      "  \"updateTime\": \"2023-06-16T05:17:55.704909Z\"\n",
      "}\n",
      "{\n",
      "  \"id\": \"projects/climate-engine-pro/assets/blm-database/blmdistrictoffices-gridmet-eto\",\n",
      "  \"name\": \"projects/climate-engine-pro/assets/blm-database/blmdistrictoffices-gridmet-eto\",\n",
      "  \"type\": \"IMAGE_COLLECTION\",\n",
      "  \"updateTime\": \"2023-06-16T05:17:55.704909Z\"\n",
      "}\n",
      "Appending to Image Collection for dates 1980-01-01 00:00:00 - 2024-01-01 00:00:00\n",
      "Running  1980-01-04 23:00:00\n",
      "Running  1980-01-09 23:00:00\n",
      "Running  1980-01-14 23:00:00\n",
      "Running  1980-01-19 23:00:00\n",
      "Running  1980-01-24 23:00:00\n",
      "Running  1980-01-29 23:00:00\n",
      "Running  1980-02-03 23:00:00\n",
      "Running  1980-02-08 23:00:00\n",
      "Running  1980-02-13 23:00:00\n",
      "Running  1980-02-18 23:00:00\n",
      "Running  1980-02-23 23:00:00\n",
      "Running  1980-02-28 23:00:00\n",
      "Running  1980-03-04 23:00:00\n",
      "Running  1980-03-09 23:00:00\n",
      "Running  1980-03-14 23:00:00\n",
      "Running  1980-03-19 23:00:00\n",
      "Running  1980-03-24 23:00:00\n",
      "Running  1980-03-29 23:00:00\n",
      "Running  1980-04-03 23:00:00\n",
      "Running  1980-04-08 23:00:00\n",
      "Running  1980-04-13 23:00:00\n",
      "Running  1980-04-18 23:00:00\n",
      "Running  1980-04-23 23:00:00\n",
      "Running  1980-04-29 00:00:00\n",
      "Running  1980-05-04 00:00:00\n",
      "Running  1980-05-09 00:00:00\n",
      "Running  1980-05-14 00:00:00\n",
      "Running  1980-05-19 00:00:00\n",
      "Running  1980-05-24 00:00:00\n",
      "Running  1980-05-29 00:00:00\n",
      "Running  1980-06-03 00:00:00\n",
      "Running  1980-06-08 00:00:00\n",
      "Running  1980-06-13 00:00:00\n",
      "Running  1980-06-18 00:00:00\n",
      "Running  1980-06-23 00:00:00\n",
      "Running  1980-06-28 00:00:00\n",
      "Running  1980-07-03 00:00:00\n",
      "Running  1980-07-08 00:00:00\n",
      "Running  1980-07-13 00:00:00\n",
      "Running  1980-07-18 00:00:00\n",
      "Running  1980-07-23 00:00:00\n",
      "Running  1980-07-28 00:00:00\n",
      "Running  1980-08-02 00:00:00\n",
      "Running  1980-08-07 00:00:00\n",
      "Running  1980-08-12 00:00:00\n",
      "Running  1980-08-17 00:00:00\n",
      "Running  1980-08-22 00:00:00\n",
      "Running  1980-08-27 00:00:00\n",
      "Running  1980-09-01 00:00:00\n",
      "Running  1980-09-06 00:00:00\n",
      "Running  1980-09-11 00:00:00\n",
      "Running  1980-09-16 00:00:00\n",
      "Running  1980-09-21 00:00:00\n",
      "Running  1980-09-26 00:00:00\n",
      "Running  1980-10-01 00:00:00\n",
      "Running  1980-10-06 00:00:00\n",
      "Running  1980-10-11 00:00:00\n",
      "Running  1980-10-16 00:00:00\n",
      "Running  1980-10-21 00:00:00\n",
      "Running  1980-10-26 00:00:00\n",
      "Running  1980-10-30 23:00:00\n",
      "Running  1980-11-04 23:00:00\n",
      "Running  1980-11-09 23:00:00\n",
      "Running  1980-11-14 23:00:00\n",
      "Running  1980-11-19 23:00:00\n",
      "Running  1980-11-24 23:00:00\n",
      "Running  1980-11-29 23:00:00\n",
      "Running  1980-12-04 23:00:00\n",
      "Running  1980-12-09 23:00:00\n",
      "Running  1980-12-14 23:00:00\n",
      "Running  1980-12-19 23:00:00\n",
      "Running  1980-12-24 23:00:00\n",
      "Running  1980-12-29 23:00:00\n",
      "Running  1981-01-04 23:00:00\n",
      "Running  1981-01-09 23:00:00\n",
      "Running  1981-01-14 23:00:00\n",
      "Running  1981-01-19 23:00:00\n",
      "Running  1981-01-24 23:00:00\n"
     ]
    }
   ],
   "source": [
    "# If there is no Image Collection asset at the out_path create one and export ID image\n",
    "if os.system(f\"earthengine asset info {out_path}\") == 256:\n",
    "\n",
    "    print(\"Initializing Image Collection by creating EE asset and exporting ID image\")\n",
    "    \n",
    "    # Create dictionary of properties\n",
    "    properties = {'system:index': '0_id', 'land_unit_long': land_unit_long, 'land_unit_short': land_unit_short, 'in_fc_path': in_fc_path, \n",
    "                  'in_fc_id': in_fc_id, 'in_ic_path': in_ic_paths[0], 'in_ic_name': in_ic_name, 'in_ic_res': in_ic_res, 'var_type': var_type, \n",
    "                  'var_name': var_name, 'var_units': var_units}\n",
    "    if mask == True:\n",
    "            properties['mask_path'] = mask_path\n",
    "    elif mask == False:\n",
    "            properties['mask_path'] = 'None'\n",
    "    \n",
    "    eedb_cor.initialize_collection(out_path = out_path, properties = properties)\n",
    "\n",
    "    \n",
    "# If there is an Image Collection asset at the out_path export time-series images\n",
    "elif os.system(f\"earthengine asset info {out_path}\") == 0:\n",
    "\n",
    "    print(f\"Appending to Image Collection for dates {start_date} - {end_date}\")\n",
    "\n",
    "    # Get dates for image collection based on start and end date\n",
    "    dates = eedb_cor.get_collection_dates(in_ic_paths = in_ic_paths, start_date = start_date, end_date = end_date)\n",
    "\n",
    "    # Loop over selected dates to pre-process and export\n",
    "    for date in dates:\n",
    "        \n",
    "        print(\"Running \", datetime.datetime.fromtimestamp(date/1000.0))\n",
    "        \n",
    "        # Parse date for ID\n",
    "        date_ymd = datetime.datetime.fromtimestamp(date/1000.0).strftime('%Y%m%d')\n",
    "        \n",
    "        # Create dictionary of properties for image    \n",
    "        properties = {'system:index': date_ymd, 'system:time_start': date, 'land_unit_long': land_unit_long, 'land_unit_short': land_unit_short, 'in_fc_path': in_fc_path,\\\n",
    "                      'in_fc_id': in_fc_id, 'in_ic_path': in_ic_paths[0], 'in_ic_name': in_ic_name, 'in_ic_res': in_ic_res, 'var_type': var_type,\\\n",
    "                      'var_name': var_name, 'var_units': var_units}\n",
    "        if mask == True:\n",
    "            properties['mask_path'] = mask_path\n",
    "        elif mask == False:\n",
    "            properties['mask_path'] = 'None'\n",
    "        \n",
    "        eedb_cor.run_image_export(in_ic_paths = in_ic_paths, date = date, out_path = out_path, properties = properties)"
   ]
  },
  {
   "cell_type": "markdown",
   "metadata": {},
   "source": [
    "## Check completeness of image collections and re-run any images that are missing"
   ]
  },
  {
   "cell_type": "code",
   "execution_count": 66,
   "metadata": {},
   "outputs": [
    {
     "name": "stdout",
     "output_type": "stream",
     "text": [
      "These dates are missing and will be rerun  {646207200000, 644911200000}\n",
      "Running  1990-06-24 00:00:00\n",
      "Running  1990-06-09 00:00:00\n"
     ]
    }
   ],
   "source": [
    "# Get list of all dates\n",
    "all_dates = eedb_col.get_collection_dates(in_ic_paths, start_date, end_date)\n",
    "\n",
    "# Get list of dates from collection\n",
    "coll_dates = ee.ImageCollection(out_path).aggregate_array('system:time_start').distinct().getInfo()\n",
    "\n",
    "# Get list of dates missing from collection\n",
    "miss_dates = set(all_dates) - set(coll_dates)\n",
    "print(\"These dates are missing and will be rerun \", miss_dates)\n",
    "\n",
    "for date in miss_dates:\n",
    "    print(\"Running \", datetime.datetime.fromtimestamp(date/1000.0))\n",
    "    \n",
    "    # Parse date for ID\n",
    "    date_ymd = datetime.datetime.fromtimestamp(date/1000.0).strftime('%Y%m%d')\n",
    "\n",
    "    # Create dictionary of properties for image    \n",
    "    properties = {'system:index': date_ymd, 'system:time_start': date, 'land_unit_long': land_unit_long, 'land_unit_short': land_unit_short, 'in_fc_path': in_fc_path,\\\n",
    "                'in_fc_id': in_fc_id, 'in_ic_paths': in_ic_paths, 'in_ic_path': in_ic_paths[0], 'in_ic_name': in_ic_name, 'in_ic_res': in_ic_res, 'var_type': var_type,\\\n",
    "                'var_name': var_name, 'var_units': var_units, 'mask': mask}\n",
    "        \n",
    "    eedb_cor.run_image_export(date = date, out_path = out_path, properties = properties)"
   ]
  },
  {
   "cell_type": "code",
   "execution_count": 49,
   "metadata": {},
   "outputs": [
    {
     "data": {
      "text/plain": [
       "2325"
      ]
     },
     "execution_count": 49,
     "metadata": {},
     "output_type": "execute_result"
    }
   ],
   "source": [
    "tasks = !geeadd tasks\n",
    "task_count = int(tasks[1].replace(\"Tasks Pending: \", \"\"))\n",
    "task_count"
   ]
  }
 ],
 "metadata": {
  "colab": {
   "collapsed_sections": [],
   "name": "Export_BLM_TimeSeries_ImageCollection.ipynb",
   "provenance": []
  },
  "kernelspec": {
   "display_name": "Python 3 (ipykernel)",
   "language": "python",
   "name": "python3"
  },
  "language_info": {
   "codemirror_mode": {
    "name": "ipython",
    "version": 3
   },
   "file_extension": ".py",
   "mimetype": "text/x-python",
   "name": "python",
   "nbconvert_exporter": "python",
   "pygments_lexer": "ipython3",
   "version": "3.9.16"
  }
 },
 "nbformat": 4,
 "nbformat_minor": 1
}
