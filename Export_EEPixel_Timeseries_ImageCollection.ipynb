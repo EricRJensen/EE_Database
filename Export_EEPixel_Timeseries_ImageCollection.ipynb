{
 "cells": [
  {
   "cell_type": "markdown",
   "metadata": {},
   "source": [
    " ## Import packages and modules"
   ]
  },
  {
   "cell_type": "code",
   "execution_count": 1,
   "metadata": {
    "id": "pT6KulIXmSWZ"
   },
   "outputs": [],
   "source": [
    "from datetime import date\n",
    "from datetime import timedelta\n",
    "import os\n",
    "import datetime\n",
    "import pandas as pd\n",
    "import ee\n",
    "import geemap\n",
    "import os\n",
    "import eeDatabase_coreMethods as eedb_cor\n",
    "import eeDatabase_collectionMethods as eedb_col\n",
    "import eeDatabase_collectionInfo as eedb_colinfo\n",
    "\n",
    "# ee.Authenticate()\n",
    "ee.Initialize(project = \"dri-apps\")\n",
    "\n",
    "Map = geemap.Map()"
   ]
  },
  {
   "cell_type": "markdown",
   "metadata": {
    "id": "4t-1HOAnF7rL"
   },
   "source": [
    "## Define Parameters and Load datasets"
   ]
  },
  {
   "cell_type": "code",
   "execution_count": 13,
   "metadata": {
    "id": "zQPixTuOF658"
   },
   "outputs": [],
   "source": [
    "# ------------------------------------- Define parameters -----------------------------------------------\n",
    "# Define time period to export\n",
    "start_date = datetime.datetime(1980, 1, 1)\n",
    "end_date = datetime.datetime(2025, 1, 1)\n",
    "\n",
    "# -------------------------------- Define input Image Collection ----------------------------------------\n",
    "# Define input dataset\n",
    "# See dictionary below for list of input datasets\n",
    "in_ic_name = 'RAP_16dProduction'\n",
    "\n",
    "# Define variable from dataset\n",
    "# See dictionary below for variables available for each dataset\n",
    "var_name = 'shrAGB'\n",
    "\n",
    "# ------------------------------- Define input Feature Collection ---------------------------------------\n",
    "# Define input path for Feature Collection\n",
    "in_fc_path = 'projects/dri-apps/assets/blm-admin/blm-natl-admu-stateoffice-polygons'\n",
    "in_fc = ee.FeatureCollection(in_fc_path)\n",
    "\n",
    "# ------------------------------ Define mask, if applicable --------------------------------------------\n",
    "# For BLM, we will apply mask to field offices, district offices, and state offices, but not to allotments\n",
    "# Apply mask for ownership, landcover, or other variables. Must be binary mask.\n",
    "mask_path = 'projects/dri-apps/assets/blm-admin/blm-natl-admu-sma-binary'"
   ]
  },
  {
   "cell_type": "markdown",
   "metadata": {},
   "source": [
    "## Define additional parameters required for functions and output properties below"
   ]
  },
  {
   "cell_type": "code",
   "execution_count": 14,
   "metadata": {},
   "outputs": [],
   "source": [
    "# Define land unit names\n",
    "if(in_fc_path == 'projects/dri-apps/assets/blm-admin/blm-natl-grazing-allotment-polygons'):\n",
    "    land_unit_long = 'BLM_Natl_Grazing_Allotment_Polygons'\n",
    "    land_unit_short = 'BLM_Allotments'\n",
    "    tile_scale = 1\n",
    "    in_fc_id = 'ALLOT_ID'\n",
    "    fc_mask = False\n",
    "elif(in_fc_path == 'projects/dri-apps/assets/blm-admin/blm-natl-admu-fieldoffice-polygons'):\n",
    "    land_unit_long = 'BLM_Natl_FieldOffice_Polygons'\n",
    "    land_unit_short = 'BLM_FieldOffices'\n",
    "    tile_scale = 1\n",
    "    in_fc_id = 'FO_ID'\n",
    "    fc_mask = True\n",
    "elif(in_fc_path == 'projects/dri-apps/assets/blm-admin/blm-natl-admu-districtoffice-polygons'):\n",
    "    land_unit_long = 'BLM_Natl_DistrictOffice_Polygons'\n",
    "    land_unit_short = 'BLM_DistrictOffices'\n",
    "    tile_scale = 1\n",
    "    in_fc_id = 'DO_ID'\n",
    "    fc_mask = True\n",
    "elif(in_fc_path == 'projects/dri-apps/assets/blm-admin/blm-natl-admu-stateoffice-polygons'):\n",
    "    land_unit_long = 'BLM_Natl_StateOffice_Polygons'\n",
    "    land_unit_short = 'BLM_StateOffices'\n",
    "    tile_scale = 1\n",
    "    in_fc_id = 'SO_ID'\n",
    "    fc_mask = True\n",
    "\n",
    "# Pull out additional variables needed to run exports\n",
    "in_ic_paths = eedb_colinfo.in_ic_dict.get(in_ic_name).get('in_ic_paths')\n",
    "in_ic_res = ee.Number(ee.ImageCollection(in_ic_paths[0]).first().projection().nominalScale()).round().getInfo()\n",
    "var_type = eedb_colinfo.in_ic_dict.get(in_ic_name).get('var_type')\n",
    "var_units = eedb_colinfo.var_dict.get(var_name).get('units')\n",
    "out_path = f\"projects/climate-engine-pro/assets/blm-database/{land_unit_short.replace('_', '').lower()}-{in_ic_name.replace('_', '').lower()}-{var_name.replace('_', '').lower()}\"\n",
    "\n",
    "# Apply mask for remote sensing datasets on larger boundaries\n",
    "if fc_mask == True & eedb_colinfo.in_ic_dict.get(in_ic_name).get('ic_mask') == True:\n",
    "    mask = True\n",
    "else:\n",
    "    mask = False"
   ]
  },
  {
   "cell_type": "markdown",
   "metadata": {},
   "source": [
    "## Create database image collection and append time-series images"
   ]
  },
  {
   "cell_type": "code",
   "execution_count": 9,
   "metadata": {
    "collapsed": true
   },
   "outputs": [
    {
     "name": "stdout",
     "output_type": "stream",
     "text": [
      "{\n",
      "  \"id\": \"projects/climate-engine-pro/assets/blm-database/blmfieldoffices-rap16dproduction-shragb\",\n",
      "  \"name\": \"projects/climate-engine-pro/assets/blm-database/blmfieldoffices-rap16dproduction-shragb\",\n",
      "  \"type\": \"IMAGE_COLLECTION\",\n",
      "  \"updateTime\": \"2023-12-28T06:57:49.837636Z\"\n",
      "}\n"
     ]
    },
    {
     "name": "stderr",
     "output_type": "stream",
     "text": [
      "Traceback (most recent call last):\n",
      "  File \"/opt/homebrew/bin/earthengine\", line 8, in <module>\n",
      "    sys.exit(main())\n",
      "             ^^^^^^\n",
      "  File \"/opt/homebrew/lib/python3.11/site-packages/ee/cli/eecli.py\", line 87, in main\n",
      "    _run_command()\n",
      "  File \"/opt/homebrew/lib/python3.11/site-packages/ee/cli/eecli.py\", line 61, in _run_command\n",
      "    dispatcher.run(args, config)\n",
      "  File \"/opt/homebrew/lib/python3.11/site-packages/ee/cli/commands.py\", line 361, in run\n",
      "    self.command_dict[vars(args)[self.dest]].run(args, config)\n",
      "  File \"/opt/homebrew/lib/python3.11/site-packages/ee/cli/commands.py\", line 361, in run\n",
      "    self.command_dict[vars(args)[self.dest]].run(args, config)\n",
      "  File \"/opt/homebrew/lib/python3.11/site-packages/ee/cli/commands.py\", line 664, in run\n",
      "    config.ee_init()\n",
      "  File \"/opt/homebrew/lib/python3.11/site-packages/ee/cli/utils.py\", line 153, in ee_init\n",
      "    ee.data.setUserAgent('eecli')\n",
      "  File \"/opt/homebrew/lib/python3.11/site-packages/ee/data.py\", line 407, in setUserAgent\n",
      "    _install_cloud_api_resource()\n",
      "  File \"/opt/homebrew/lib/python3.11/site-packages/ee/data.py\", line 273, in _install_cloud_api_resource\n",
      "    _cloud_api_resource = _cloud_api_utils.build_cloud_resource(\n",
      "                          ^^^^^^^^^^^^^^^^^^^^^^^^^^^^^^^^^^^^^^\n",
      "  File \"/opt/homebrew/lib/python3.11/site-packages/ee/_cloud_api_utils.py\", line 187, in build_cloud_resource\n",
      "    resource = build(static_discovery=False)\n",
      "               ^^^^^^^^^^^^^^^^^^^^^^^^^^^^^\n",
      "  File \"/opt/homebrew/lib/python3.11/site-packages/ee/_cloud_api_utils.py\", line 171, in build\n",
      "    return discovery.build(\n",
      "           ^^^^^^^^^^^^^^^^\n",
      "  File \"/opt/homebrew/lib/python3.11/site-packages/googleapiclient/_helpers.py\", line 130, in positional_wrapper\n",
      "    return wrapped(*args, **kwargs)\n",
      "           ^^^^^^^^^^^^^^^^^^^^^^^^\n",
      "  File \"/opt/homebrew/lib/python3.11/site-packages/googleapiclient/discovery.py\", line 287, in build\n",
      "    content = _retrieve_discovery_doc(\n",
      "              ^^^^^^^^^^^^^^^^^^^^^^^^\n",
      "  File \"/opt/homebrew/lib/python3.11/site-packages/googleapiclient/discovery.py\", line 422, in _retrieve_discovery_doc\n",
      "    resp, content = req.execute(num_retries=num_retries)\n",
      "                    ^^^^^^^^^^^^^^^^^^^^^^^^^^^^^^^^^^^^\n",
      "  File \"/opt/homebrew/lib/python3.11/site-packages/googleapiclient/_helpers.py\", line 130, in positional_wrapper\n",
      "    return wrapped(*args, **kwargs)\n",
      "           ^^^^^^^^^^^^^^^^^^^^^^^^\n",
      "  File \"/opt/homebrew/lib/python3.11/site-packages/googleapiclient/http.py\", line 923, in execute\n",
      "    resp, content = _retry_request(\n",
      "                    ^^^^^^^^^^^^^^^\n",
      "  File \"/opt/homebrew/lib/python3.11/site-packages/googleapiclient/http.py\", line 191, in _retry_request\n",
      "    resp, content = http.request(uri, method, *args, **kwargs)\n",
      "                    ^^^^^^^^^^^^^^^^^^^^^^^^^^^^^^^^^^^^^^^^^^\n",
      "  File \"/opt/homebrew/lib/python3.11/site-packages/google_auth_httplib2.py\", line 218, in request\n",
      "    response, content = self.http.request(\n",
      "                        ^^^^^^^^^^^^^^^^^^\n",
      "  File \"/opt/homebrew/lib/python3.11/site-packages/ee/_cloud_api_utils.py\", line 62, in request\n",
      "    response = session.request(\n",
      "               ^^^^^^^^^^^^^^^^\n",
      "  File \"/opt/homebrew/lib/python3.11/site-packages/requests/sessions.py\", line 589, in request\n",
      "    resp = self.send(prep, **send_kwargs)\n",
      "           ^^^^^^^^^^^^^^^^^^^^^^^^^^^^^^\n",
      "  File \"/opt/homebrew/lib/python3.11/site-packages/requests/sessions.py\", line 747, in send\n",
      "    r.content\n",
      "  File \"/opt/homebrew/lib/python3.11/site-packages/requests/models.py\", line 899, in content\n",
      "    self._content = b\"\".join(self.iter_content(CONTENT_CHUNK_SIZE)) or b\"\"\n",
      "                    ^^^^^^^^^^^^^^^^^^^^^^^^^^^^^^^^^^^^^^^^^^^^^^^\n",
      "  File \"/opt/homebrew/lib/python3.11/site-packages/requests/models.py\", line 816, in generate\n",
      "    yield from self.raw.stream(chunk_size, decode_content=True)\n",
      "  File \"/opt/homebrew/lib/python3.11/site-packages/urllib3/response.py\", line 933, in stream\n",
      "    yield from self.read_chunked(amt, decode_content=decode_content)\n",
      "  File \"/opt/homebrew/lib/python3.11/site-packages/urllib3/response.py\", line 1073, in read_chunked\n",
      "    self._update_chunk_length()\n",
      "  File \"/opt/homebrew/lib/python3.11/site-packages/urllib3/response.py\", line 1001, in _update_chunk_length\n",
      "    line = self._fp.fp.readline()  # type: ignore[union-attr]\n",
      "           ^^^^^^^^^^^^^^^^^^^^^^\n",
      "  File \"/opt/homebrew/Cellar/python@3.11/3.11.5/Frameworks/Python.framework/Versions/3.11/lib/python3.11/socket.py\", line 706, in readinto\n",
      "    return self._sock.recv_into(b)\n",
      "           ^^^^^^^^^^^^^^^^^^^^^^^\n",
      "  File \"/opt/homebrew/Cellar/python@3.11/3.11.5/Frameworks/Python.framework/Versions/3.11/lib/python3.11/ssl.py\", line 1311, in recv_into\n",
      "    return self.read(nbytes, buffer)\n",
      "           ^^^^^^^^^^^^^^^^^^^^^^^^^\n",
      "  File \"/opt/homebrew/Cellar/python@3.11/3.11.5/Frameworks/Python.framework/Versions/3.11/lib/python3.11/ssl.py\", line 1167, in read\n",
      "    return self._sslobj.read(len, buffer)\n",
      "           ^^^^^^^^^^^^^^^^^^^^^^^^^^^^^^\n",
      "KeyboardInterrupt\n"
     ]
    }
   ],
   "source": [
    "# If there is no Image Collection asset at the out_path create one and export ID image\n",
    "if os.system(f\"earthengine asset info {out_path}\") == 256:\n",
    "\n",
    "    print(\"Initializing Image Collection by creating EE asset and exporting ID image\")\n",
    "    \n",
    "    # Create dictionary of properties\n",
    "    properties = {'system:index': '0_id', 'land_unit_long': land_unit_long, 'land_unit_short': land_unit_short, 'in_fc_path': in_fc_path, \n",
    "                  'in_fc_id': in_fc_id, 'in_ic_path': in_ic_paths[0], 'in_ic_name': in_ic_name, 'in_ic_res': in_ic_res, 'var_type': var_type, \n",
    "                  'var_name': var_name, 'var_units': var_units, 'tile_scale': tile_scale}\n",
    "    if mask == True:\n",
    "            properties['mask_path'] = mask_path\n",
    "    elif mask == False:\n",
    "            properties['mask_path'] = 'None'\n",
    "    eedb_cor.initialize_collection(out_path = out_path, properties = properties)\n",
    "\n",
    "    \n",
    "# If there is an Image Collection asset at the out_path export time-series images\n",
    "elif os.system(f\"earthengine asset info {out_path}\") == 0:\n",
    "\n",
    "    print(f\"Appending to Image Collection for dates {start_date} - {end_date}\")\n",
    "\n",
    "    # Get dates for image collection based on start and end date\n",
    "    dates = eedb_cor.get_collection_dates(in_ic_paths = in_ic_paths, start_date = start_date, end_date = end_date)\n",
    "\n",
    "    # Loop over selected dates to pre-process and export\n",
    "    for date in dates:\n",
    "        \n",
    "        print(\"Running \", datetime.datetime.fromtimestamp(date/1000.0))\n",
    "        \n",
    "        # Parse date for ID\n",
    "        date_ymd = datetime.datetime.fromtimestamp(date/1000.0).strftime('%Y%m%d')\n",
    "        \n",
    "        # Create dictionary of properties for image    \n",
    "        properties = {'system:index': date_ymd, 'system:time_start': date, 'land_unit_long': land_unit_long, 'land_unit_short': land_unit_short, 'in_fc_path': in_fc_path,\\\n",
    "                      'in_fc_id': in_fc_id, 'in_ic_path': in_ic_paths[0], 'in_ic_name': in_ic_name, 'in_ic_res': in_ic_res, 'var_type': var_type,\\\n",
    "                      'var_name': var_name, 'var_units': var_units, 'tile_scale': tile_scale}\n",
    "        if mask == True:\n",
    "            properties['mask_path'] = mask_path\n",
    "        elif mask == False:\n",
    "            properties['mask_path'] = 'None'\n",
    "        \n",
    "        eedb_cor.run_image_export(in_ic_paths = in_ic_paths, date = date, out_path = out_path, properties = properties)"
   ]
  },
  {
   "cell_type": "markdown",
   "metadata": {},
   "source": [
    "## Check completeness of image collections and re-run any images that are missing"
   ]
  },
  {
   "cell_type": "code",
   "execution_count": 15,
   "metadata": {},
   "outputs": [
    {
     "name": "stdout",
     "output_type": "stream",
     "text": [
      "These dates are missing and will be rerun  [1672531200000, 1673913600000, 1675296000000, 1676678400000, 1678060800000, 1679443200000, 1680825600000, 1682208000000, 1683590400000, 1684972800000, 1686355200000, 1687737600000, 1689120000000, 1690502400000, 1691884800000, 1693267200000, 1694649600000, 1696032000000, 1697414400000, 1698796800000]\n",
      "Running  2022-12-31 17:00:00\n",
      "Running  2023-01-16 17:00:00\n",
      "Running  2023-02-01 17:00:00\n",
      "Running  2023-02-17 17:00:00\n",
      "Running  2023-03-05 17:00:00\n",
      "Running  2023-03-21 18:00:00\n",
      "Running  2023-04-06 18:00:00\n",
      "Running  2023-04-22 18:00:00\n",
      "Running  2023-05-08 18:00:00\n",
      "Running  2023-05-24 18:00:00\n",
      "Running  2023-06-09 18:00:00\n",
      "Running  2023-06-25 18:00:00\n",
      "Running  2023-07-11 18:00:00\n",
      "Running  2023-07-27 18:00:00\n",
      "Running  2023-08-12 18:00:00\n",
      "Running  2023-08-28 18:00:00\n",
      "Running  2023-09-13 18:00:00\n",
      "Running  2023-09-29 18:00:00\n",
      "Running  2023-10-15 18:00:00\n",
      "Running  2023-10-31 18:00:00\n"
     ]
    }
   ],
   "source": [
    "# Get list of all dates\n",
    "all_dates = eedb_cor.get_collection_dates(in_ic_paths, start_date, end_date)\n",
    "\n",
    "# Get list of dates from collection\n",
    "coll_dates = ee.ImageCollection(out_path).aggregate_array('system:time_start').distinct().getInfo()\n",
    "\n",
    "# Get list of dates missing from collection\n",
    "miss_dates = sorted(set(all_dates) - set(coll_dates))\n",
    "print(\"These dates are missing and will be rerun \", miss_dates)\n",
    "\n",
    "for date in miss_dates:\n",
    "    print(\"Running \", datetime.datetime.fromtimestamp(date/1000.0))\n",
    "    \n",
    "    # Parse date for ID\n",
    "    date_ymd = datetime.datetime.fromtimestamp(date/1000.0).strftime('%Y%m%d')\n",
    "\n",
    "    # Create dictionary of properties for image    \n",
    "    properties = {'system:index': date_ymd, 'system:time_start': date, 'land_unit_long': land_unit_long, 'land_unit_short': land_unit_short, 'in_fc_path': in_fc_path,\\\n",
    "                'in_fc_id': in_fc_id, 'in_ic_paths': in_ic_paths, 'in_ic_path': in_ic_paths[0], 'in_ic_name': in_ic_name, 'in_ic_res': in_ic_res, 'var_type': var_type,\\\n",
    "                'var_name': var_name, 'var_units': var_units, 'tile_scale': tile_scale, 'mask': mask}\n",
    "    if mask == True:\n",
    "        properties['mask_path'] = mask_path\n",
    "    elif mask == False:\n",
    "        properties['mask_path'] = 'None'\n",
    "        \n",
    "    eedb_cor.run_image_export(in_ic_paths = in_ic_paths, date = date, out_path = out_path, properties = properties)"
   ]
  }
 ],
 "metadata": {
  "colab": {
   "collapsed_sections": [],
   "name": "Export_BLM_TimeSeries_ImageCollection.ipynb",
   "provenance": []
  },
  "kernelspec": {
   "display_name": "Python 3 (ipykernel)",
   "language": "python",
   "name": "python3"
  },
  "language_info": {
   "codemirror_mode": {
    "name": "ipython",
    "version": 3
   },
   "file_extension": ".py",
   "mimetype": "text/x-python",
   "name": "python",
   "nbconvert_exporter": "python",
   "pygments_lexer": "ipython3",
   "version": "3.11.5"
  }
 },
 "nbformat": 4,
 "nbformat_minor": 1
}
